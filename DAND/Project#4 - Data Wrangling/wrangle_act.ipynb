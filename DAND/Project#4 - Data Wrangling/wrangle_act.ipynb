{
 "cells": [
  {
   "cell_type": "markdown",
   "metadata": {},
   "source": [
    "# Project#4 - Wrangle and Analyze Data\n",
    "> **Developed By**: Rakan210 on June 17, 2019 - as psrt of Udacity Data Analyst Nanodegree program (DAND)"
   ]
  },
  {
   "cell_type": "markdown",
   "metadata": {},
   "source": [
    "### Project Steps\n",
    "1. **Gathering data**\n",
    "2. **Assessing data**\n",
    "3. **Cleaning data**"
   ]
  },
  {
   "cell_type": "markdown",
   "metadata": {},
   "source": [
    "### Part#1: Gathering Data:- \n",
    "This projet required 3 source of data to be gathered: \n",
    "* The WeRateDogs Twitter archive, which is provided in the following link: [ [twitter_archive_enhanced.csv](https://d17h27t6h515a5.cloudfront.net/topher/2017/August/59a4e958_twitter-archive-enhanced/twitter-archive-enhanced.csv) ].\n",
    "* The tweet image predictions, i.e., what breed of dog (or other object, animal, etc.) is present in each tweet according to a neural network. This file (image_predictions.tsv) is hosted on Udacity's servers and should be downloaded programmatically using the Requests library and the following [ URL ](https://d17h27t6h515a5.cloudfront.net/topher/2017/August/599fd2ad_image-predictions/image-predictions.tsv).\n",
    "* Each tweet's retweet count and favorite (\"like\") count at minimum, and any additional data you find interesting. Using the tweet IDs in the WeRateDogs Twitter archive, query the Twitter API for each tweet's JSON data using Python's Tweepy library and store each tweet's entire set of JSON data in a file called `tweet_json.txt` file. Each tweet's JSON data should be written to its own line. Then read this .txt file line by line into a pandas DataFrame with (at minimum) tweet ID, retweet count, and favorite count. Note: do not include your Twitter API keys, secrets, and tokens in your project submission."
   ]
  },
  {
   "cell_type": "code",
   "execution_count": 132,
   "metadata": {},
   "outputs": [],
   "source": [
    "import pandas as pd\n",
    "import numpy as np\n",
    "import requests\n",
    "import tweepy\n",
    "import json\n",
    "import time\n",
    "import matplotlib.pyplot as plt\n",
    "import seaborn as sns\n",
    "%matplotlib inline"
   ]
  },
  {
   "cell_type": "markdown",
   "metadata": {},
   "source": [
    "**1. Reading WeRateDogs Twitter archive Data**"
   ]
  },
  {
   "cell_type": "code",
   "execution_count": 2,
   "metadata": {},
   "outputs": [],
   "source": [
    "df_archive = pd.read_csv('twitter-archive-enhanced.csv', encoding = 'utf-8')"
   ]
  },
  {
   "cell_type": "markdown",
   "metadata": {},
   "source": [
    "**2. Obtaining Image Predictions Data Through a URL**"
   ]
  },
  {
   "cell_type": "code",
   "execution_count": 3,
   "metadata": {},
   "outputs": [],
   "source": [
    "# download tsv using Requests Liburary and write it to a file\n",
    "with open('image_predictions.tsv', 'wb') as file:\n",
    "    file.write(requests.get(\"https://d17h27t6h515a5.cloudfront.net/topher/2017/August/599fd2ad_image-predictions/image-predictions.tsv\")\n",
    ".content)\n",
    "\n",
    "# Converting (TSV) file to Pandas Dataframe: \n",
    "df_images = pd.read_csv('image_predictions.tsv', sep='\\t', encoding = 'utf-8')"
   ]
  },
  {
   "cell_type": "markdown",
   "metadata": {},
   "source": [
    "**3. Obtaining Other Tweets Data Through Twitter APIs**"
   ]
  },
  {
   "cell_type": "code",
   "execution_count": 4,
   "metadata": {},
   "outputs": [],
   "source": [
    "# Initiating the required keys for Twitter API\n",
    "consumer_key = 'LzFMckBn32a2NCDKPOaLJEfiV'\n",
    "consumer_secret = 'BTsilq6PnYYbDSNx47y7LSvg4pBAi0ke3sY2eZm1TLOx2RSXmo'\n",
    "access_token = '433095012-ha6nyKGKJAr6zxPoZoIYSu50bYQTgtPgtTPpgt2T'\n",
    "access_secret = 'DRtdW6Op1C9puYNUXO8eRpqX5pMOuZOdlr3kqU3h71xEz'\n",
    "\n",
    "auth = tweepy.OAuthHandler(consumer_key, consumer_secret)\n",
    "auth.set_access_token(access_token, access_secret)\n",
    "\n",
    "api = tweepy.API(auth_handler = auth, wait_on_rate_limit = True,wait_on_rate_limit_notify = True)"
   ]
  },
  {
   "cell_type": "code",
   "execution_count": 5,
   "metadata": {},
   "outputs": [
    {
     "name": "stdout",
     "output_type": "stream",
     "text": [
      "\n",
      "\n",
      " ===| Start processing Twitter API Data |===\n",
      "### Tweets with errors ###\n",
      "20  - Tweet with ID [ 888202515573088257 ] has an error:  [{'code': 144, 'message': 'No status found with that ID.'}]\n",
      "96  - Tweet with ID [ 873697596434513921 ] has an error:  [{'code': 144, 'message': 'No status found with that ID.'}]\n",
      "102  - Tweet with ID [ 872668790621863937 ] has an error:  [{'code': 144, 'message': 'No status found with that ID.'}]\n",
      "105  - Tweet with ID [ 872261713294495745 ] has an error:  [{'code': 144, 'message': 'No status found with that ID.'}]\n",
      "119  - Tweet with ID [ 869988702071779329 ] has an error:  [{'code': 144, 'message': 'No status found with that ID.'}]\n",
      "133  - Tweet with ID [ 866816280283807744 ] has an error:  [{'code': 144, 'message': 'No status found with that ID.'}]\n",
      "156  - Tweet with ID [ 861769973181624320 ] has an error:  [{'code': 144, 'message': 'No status found with that ID.'}]\n",
      "183  - Tweet with ID [ 856602993587888130 ] has an error:  [{'code': 144, 'message': 'No status found with that ID.'}]\n",
      "212  - Tweet with ID [ 851953902622658560 ] has an error:  [{'code': 144, 'message': 'No status found with that ID.'}]\n",
      "248  - Tweet with ID [ 845459076796616705 ] has an error:  [{'code': 144, 'message': 'No status found with that ID.'}]\n",
      "254  - Tweet with ID [ 844704788403113984 ] has an error:  [{'code': 144, 'message': 'No status found with that ID.'}]\n",
      "261  - Tweet with ID [ 842892208864923648 ] has an error:  [{'code': 144, 'message': 'No status found with that ID.'}]\n",
      "299  - Tweet with ID [ 837012587749474308 ] has an error:  [{'code': 144, 'message': 'No status found with that ID.'}]\n",
      "364  - Tweet with ID [ 829374341691346946 ] has an error:  [{'code': 144, 'message': 'No status found with that ID.'}]\n",
      "383  - Tweet with ID [ 827228250799742977 ] has an error:  [{'code': 144, 'message': 'No status found with that ID.'}]\n",
      "507  - Tweet with ID [ 812747805718642688 ] has an error:  [{'code': 144, 'message': 'No status found with that ID.'}]\n",
      "567  - Tweet with ID [ 802247111496568832 ] has an error:  [{'code': 144, 'message': 'No status found with that ID.'}]\n",
      "785  - Tweet with ID [ 775096608509886464 ] has an error:  [{'code': 144, 'message': 'No status found with that ID.'}]\n",
      "819  - Tweet with ID [ 770743923962707968 ] has an error:  [{'code': 144, 'message': 'No status found with that ID.'}]\n",
      "933  - Tweet with ID [ 754011816964026368 ] has an error:  [{'code': 144, 'message': 'No status found with that ID.'}]\n",
      "1727  - Tweet with ID [ 680055455951884288 ] has an error:  [{'code': 144, 'message': 'No status found with that ID.'}]\n",
      "\n",
      "\n",
      " ===| The estimated processing time is: [  57.73  ] mins |===\n"
     ]
    }
   ],
   "source": [
    "# This list holds all required infor for each tweet:\n",
    "collected_tweet = []\n",
    "\n",
    "# This list holds all tweet ids in case of API error, along witht the error message: \n",
    "collected_error = []\n",
    "\n",
    "# Quick timer to estimate processing time:  \n",
    "start_time = time.time() \n",
    "\n",
    "index = 0\n",
    "\n",
    "print('\\n\\n ===| Start processing Twitter API Data |===\\n\\n')\n",
    "print('### Tweets with errors ###')\n",
    "\n",
    "# The API will bw used now to query and write the result in a JSON file: \n",
    "with open('tweet_json.txt','a',encoding = 'utf8') as file:\n",
    "    for tweet_id in df_archive.tweet_id:\n",
    "        try:\n",
    "            index = index + 1\n",
    "            # Get all tweet info with \"Extended\" mode:\n",
    "            tweet_info = api.get_status(tweet_id, tweet_mode = 'extended')\n",
    "            \n",
    "            # Dump tweet info as a JSON object in \"tweet_json.txt\" (required step):\n",
    "            json.dump(tweet_info._json, file)\n",
    "            file.write('\\n')\n",
    "            \n",
    "            # Dump selective info about each tweet:\n",
    "            collected_tweet.append({ 'tweet_id' : int(tweet_id),\n",
    "                                     'favorites': int(tweet_info._json['favorite_count']),\n",
    "                                     'retweets' : int(tweet_info._json['retweet_count']),\n",
    "                                     'date_time': pd.to_datetime(tweet_info._json['created_at'])})\n",
    "            \n",
    "        # Handling expected errors:   \n",
    "        except Exception as e:\n",
    "            collected_error.append(tweet_id)\n",
    "            print(index ,' - Tweet with ID [', tweet_id ,'] has an error: ' , str(e))\n",
    "            \n",
    "\n",
    "print('\\n\\n ===| The estimated processing time is: [' , round((time.time() - start_time)/60,2) , '] mins |===')"
   ]
  },
  {
   "cell_type": "code",
   "execution_count": 6,
   "metadata": {},
   "outputs": [],
   "source": [
    "# Converting collected tweets to a DataFrame and save it as a CSV file:\n",
    "df_collected_tweet = pd.DataFrame(collected_tweet, columns = ['tweet_id', 'favorites', 'retweets', 'date_time'])\n",
    "df_collected_tweet.to_csv('tweet_json_cleaned.txt', encoding = 'utf-8', index=False)"
   ]
  },
  {
   "cell_type": "markdown",
   "metadata": {},
   "source": [
    "### Part#2: Assessing Data:- \n",
    "\n",
    "After gathering each of the above pieces of data, assess them visually and programmatically for quality and tidiness issues. Detect and document at least eight (8) quality issues and two (2) tidiness issues in your wrangle_act.ipynb Jupyter Notebook. "
   ]
  },
  {
   "cell_type": "markdown",
   "metadata": {},
   "source": [
    "### Quality  issues: (completeness, validity, accuracy, and consistency issues)\n",
    "\n",
    "* All 'None' values should be changed to NP.NaN.\n",
    "* Delete all Retweets/Replys records since they shouldn't be considered. ([retweeted_status*] & [in_reply_to*] columns)\n",
    "* Delete all records that missing values in [expanded_url] column as they indicate ratings without an image.\n",
    "* Delete all records that have inaccurate value in [rating_denominator] as it should fixed to \"10\".\n",
    "* Delete all records that have extreme rates in [rating_numerator] column ( i.e. 0 & >20), as the over all rating value should not exceed \"10\".\n",
    "* Replace invalid dogs' names with NP.NaN.\n",
    "* Rename column labels to a descriptive ones.\n",
    "* Not all tweets have predictions photo (Archive Tweets \"df_archive\": 2356 rows , Predection Images \"df_images\": 2075 rows), so only tweet with images will be considered. \n",
    "* Insert NumPy.NaN to indicate Null values."
   ]
  },
  {
   "cell_type": "markdown",
   "metadata": {},
   "source": [
    "### Tidiness issues: (structural issues)\n",
    "**df_archive:**\n",
    "* Remove unrequired columns for the analysis.\n",
    "* Combine dog stages (doggo, floofer, pupper and puppo) into one column called [dog_stage].\n",
    "* Combine rating columns into one column called [dog_rating]\n",
    "\n",
    "**df_master:**\n",
    "* Combine all DataFrames into one master DataFrame called [df_master]. Its content should be stored in `twitter_archive_master.csv`."
   ]
  },
  {
   "cell_type": "markdown",
   "metadata": {},
   "source": [
    "\n",
    "\n",
    "##### Note: Bold columns will be marged in the master dataframe\n",
    "\n",
    "**#df_archive:**\n",
    "* **tweet_id**                      - Required for Analysis\n",
    "* in_reply_to_status_id         - Required for Clean up\n",
    "* in_reply_to_user_id           - Required for Clean up\n",
    "* timestamp                     - Not required\n",
    "* source                        - Not required\n",
    "* text                          - Not required\n",
    "* retweeted_status_id           - Required for Clean up\n",
    "* retweeted_status_user_id      - Required for Clean up\n",
    "* retweeted_status_timestamp    - Required for Clean up\n",
    "* expanded_urls                 - Required for Clean up\n",
    "* **rating_numerator**              - Required for Anaysis & Clean up \n",
    "* **rating_denominator**            - Required for Anaysis & Clean up \n",
    "* **name**                          - Required for Anaysis & Clean up \n",
    "* doggo                         - Required for Anaysis & Clean up \n",
    "* floofer                       - Required for Anaysis & Clean up \n",
    "* pupper                        - Required for Anaysis & Clean up \n",
    "* puppo                         - Required for Anaysis & Clean up \n",
    "\n",
    "\n",
    "**#df_images:**\n",
    "* **tweet_id**    - Required for Anaysis \n",
    "* **jpg_url**     - Required for Anaysis \n",
    "* **img_num**     - Required for Anaysis \n",
    "* **p1**          - Required for Anaysis \n",
    "* **p1_conf**     - Required for Anaysis \n",
    "* p1_dog      - Not required\n",
    "* p2          - Not required\n",
    "* p2_conf     - Not required\n",
    "* p2_dog      - Not required\n",
    "* p3          - Not required\n",
    "* p3_conf     - Not required\n",
    "* p3_dog      - Not required\n",
    "\n",
    "\n",
    "\n",
    "**#df_collected_tweet:**\n",
    "* **tweet_id**     - Required for Anaysis \n",
    "* **favorites**    - Required for Anaysis \n",
    "* **retweets**     - Required for Anaysis \n",
    "* **date_time**    - Required for Anaysis \n"
   ]
  },
  {
   "cell_type": "markdown",
   "metadata": {},
   "source": [
    "### Part#3: Cleaning Data:- "
   ]
  },
  {
   "cell_type": "code",
   "execution_count": 86,
   "metadata": {},
   "outputs": [],
   "source": [
    "# Copying DataFrames for Clean-up Process:\n",
    "df_archive_clean = df_archive.copy()\n",
    "df_images_clean = df_images.copy()"
   ]
  },
  {
   "cell_type": "code",
   "execution_count": 87,
   "metadata": {
    "scrolled": true
   },
   "outputs": [
    {
     "name": "stdout",
     "output_type": "stream",
     "text": [
      "\n",
      "===| Summary of Cleaning Data Stage |===\n",
      "\n",
      "#1# All 'None' values has been changed to NP.NaN\n",
      "#2# Deleted Records:  259 \t->  Reason: Retweets/Replys\n",
      "#3# Deleted Records:  3 \t->  Reason: Ratings without an image\n",
      "#4# Deleted Records:  17 \t->  Reason: Inaccurate Rating (denominator)\n",
      "#5# Deleted Records:  6 \t->  Reason: Inaccurate Rating (numerator)\n",
      "#6# [dog_rate] column has been created contains calculated dog's rating\n",
      "#7# Invalid dogs' names {'a','the','an','not','one','Mo','O','Al','my','his','this','all'} were replaced with NP.NaN\n",
      "#8# [dog_stage] column has been created contains value of 'doggo','floofer','pupper','puppo' columns\n",
      "#9# Unrequired columns in [df_archive_clean] have been deleted (listed above)\n",
      "#10# Unrequired columns in [df_images_clean] have been deleted (listed above)\n",
      "#11# Combined all DataFrames into Master one called [df_master]\n",
      "#12# Renamed [df_master]'s column labels to a descriptive ones\n",
      "#13# Saved [df_master] to a CSV file called 'twitter_archive_master.csv'\n"
     ]
    }
   ],
   "source": [
    "# Tweet Counter: will be used to demonstrate changes:\n",
    "tweets_count = df_archive_clean.shape[0]\n",
    "\n",
    "print('\\n===| Summary of Cleaning Data Stage |===\\n')\n",
    "\n",
    "#### Cleaing Data for df_archive_clean ###\n",
    "\n",
    "# 1. Replace all 'None' strings with NP.NaN:\n",
    "df_archive_clean.replace('None', np.nan, inplace=True)\n",
    "\n",
    "print(\"#1# All 'None' values has been changed to NP.NaN\")\n",
    "\n",
    "    \n",
    "# 2. Drop all Replys and Retweets records:\n",
    "df_archive_clean.drop(df_archive_clean[df_archive_clean.retweeted_status_user_id.notnull()].index, inplace=True)\n",
    "df_archive_clean.drop(df_archive_clean[df_archive_clean.in_reply_to_user_id.notnull()].index, inplace=True)\n",
    "\n",
    "print('#2# Deleted Records: ' , tweets_count - df_archive_clean.shape[0] , '\\t->  Reason: Retweets/Replys')\n",
    "tweets_count = df_archive_clean.shape[0]\n",
    "\n",
    "\n",
    "# 3. Drop all tweets that missing values in [expanded_url] as they indicate ratings without an image:\n",
    "df_archive_clean.drop(df_archive_clean[df_archive_clean.expanded_urls.isnull()].index, inplace=True)\n",
    "\n",
    "print('#3# Deleted Records: ' , tweets_count - df_archive_clean.shape[0] , '\\t->  Reason: Ratings without an image')\n",
    "tweets_count = df_archive_clean.shape[0]\n",
    "\n",
    "\n",
    "# 4. Drop all tweets with inaccurate value in [rating_denominator]:\n",
    "df_archive_clean.drop(df_archive_clean[df_archive_clean.rating_denominator != 10].index, inplace=True)\n",
    "\n",
    "print('#4# Deleted Records: ' , tweets_count - df_archive_clean.shape[0] , '\\t->  Reason: Inaccurate Rating (denominator)')\n",
    "tweets_count = df_archive_clean.shape[0]\n",
    "\n",
    "\n",
    "# 5. Drop all tweets with inaccurate value in [rating_numerator]:\n",
    "df_archive_clean.drop(df_archive_clean[df_archive_clean.rating_numerator == 0].index, inplace=True)\n",
    "df_archive_clean.drop(df_archive_clean[df_archive_clean.rating_numerator > 20].index, inplace=True)\n",
    "\n",
    "\n",
    "print('#5# Deleted Records: ' , tweets_count - df_archive_clean.shape[0] , '\\t->  Reason: Inaccurate Rating (numerator)')\n",
    "tweets_count = df_archive_clean.shape[0]\n",
    "\n",
    "\n",
    "# 6. Marge ratings columns into one column called [dog_rating]:\n",
    "df_archive_clean['dog_rate'] = df_archive_clean.rating_numerator / df_archive_clean.rating_denominator\n",
    "print (\"#6# [dog_rate] column has been created contains calculated dog's rating\")\n",
    "\n",
    "\n",
    "# 7. Replace invalid names for dogs with NP.NaN:\n",
    "names=['a','the','an','not','one','Mo','O','Al','my','his','this','all']\n",
    "df_archive_clean.replace(names, np.nan, inplace=True)\n",
    "print (\"#7# Invalid dogs' names {'a','the','an','not','one','Mo','O','Al','my','his','this','all'} were replaced with NP.NaN\")\n",
    "\n",
    "\n",
    "# 8. Merge dog stages into one column called [dog_stage]: 'doggo','floofer','pupper','puppo'\n",
    "df_archive_clean.loc[df_archive_clean.doggo   == 'doggo'  , 'dog_stage'] = 'doggo'\n",
    "df_archive_clean.loc[df_archive_clean.floofer == 'floofer', 'dog_stage'] = 'floofer'\n",
    "df_archive_clean.loc[df_archive_clean.pupper  == 'pupper' , 'dog_stage'] = 'pupper'\n",
    "df_archive_clean.loc[df_archive_clean.puppo   == 'puppo'  , 'dog_stage'] = 'puppo'\n",
    "print (\"#8# [dog_stage] column has been created contains value of 'doggo','floofer','pupper','puppo' columns\" )\n",
    "\n",
    "\n",
    "# 9. Drop unrequired columns:\n",
    "columns = ['timestamp','source','text','rating_numerator','rating_denominator','in_reply_to_status_id', 'in_reply_to_user_id','retweeted_status_id', \n",
    "           'retweeted_status_user_id','expanded_urls','retweeted_status_timestamp','doggo','floofer','pupper','puppo']\n",
    "df_archive_clean.drop(columns,axis=1,inplace=True)\n",
    "\n",
    "print ('#9# Unrequired columns in [df_archive_clean] have been deleted (listed above)')\n",
    "\n",
    "\n",
    "\n",
    "\n",
    "#### Cleaing Data for df_images_clean ###\n",
    "\n",
    "# 10. Drop unrequired columns:\n",
    "columns = ['p1_dog','p2','p2_conf','p2_dog', 'p3','p3_conf', 'p3_dog']\n",
    "df_images_clean.drop(columns,axis=1,inplace=True)\n",
    "print ('#10# Unrequired columns in [df_images_clean] have been deleted (listed above)')\n",
    "\n",
    "\n",
    "\n",
    "\n",
    "#### Cleaing Data for df_master ###\n",
    "\n",
    "# 11. Create a new DataFrame that combineds all DataFrames (df_archive_clean, df_images_clean, collected_tweet):\n",
    "df_master = pd.merge(df_collected_tweet, df_archive_clean, on='tweet_id', how='inner')\n",
    "df_master = pd.merge(df_master, df_images_clean, on='tweet_id', how='inner')\n",
    "df_master = df_master[['date_time','tweet_id','favorites','retweets','name','dog_rate','dog_stage','jpg_url','img_num','p1','p1_conf']]\n",
    "print ('#11# Combined all DataFrames into Master one called [df_master]')\n",
    "\n",
    "# 12. Rename df_master's column labels to a descriptive ones:\n",
    "df_master.rename(columns={'date_time': 'time_stamp',\n",
    "                          'name': 'dog_name',\n",
    "                          'jpg_url': 'image_url',\n",
    "                          'img_num': 'images_count',\n",
    "                          'p1': 'img_prediction',\n",
    "                          'p1_conf': 'prediction_conf',\n",
    "                          }, inplace=True)\n",
    "\n",
    "print (\"#12# Renamed [df_master]'s column labels to a descriptive ones\")\n",
    "\n",
    "\n",
    "# 13. Save to df_master a CSV file:\n",
    "df_master.to_csv('twitter_archive_master.csv', encoding = 'utf-8', index=False)\n",
    "\n",
    "print (\"#13# Saved [df_master] to a CSV file called 'twitter_archive_master.csv'\")"
   ]
  },
  {
   "cell_type": "code",
   "execution_count": 88,
   "metadata": {},
   "outputs": [
    {
     "name": "stdout",
     "output_type": "stream",
     "text": [
      "<class 'pandas.core.frame.DataFrame'>\n",
      "Int64Index: 2071 entries, 0 to 2355\n",
      "Data columns (total 4 columns):\n",
      "tweet_id     2071 non-null int64\n",
      "name         1406 non-null object\n",
      "dog_rate     2071 non-null float64\n",
      "dog_stage    334 non-null category\n",
      "dtypes: category(1), float64(1), int64(1), object(1)\n",
      "memory usage: 66.9+ KB\n"
     ]
    }
   ],
   "source": [
    "df_archive_clean.info()"
   ]
  },
  {
   "cell_type": "code",
   "execution_count": 89,
   "metadata": {},
   "outputs": [
    {
     "data": {
      "text/html": [
       "<div>\n",
       "<style scoped>\n",
       "    .dataframe tbody tr th:only-of-type {\n",
       "        vertical-align: middle;\n",
       "    }\n",
       "\n",
       "    .dataframe tbody tr th {\n",
       "        vertical-align: top;\n",
       "    }\n",
       "\n",
       "    .dataframe thead th {\n",
       "        text-align: right;\n",
       "    }\n",
       "</style>\n",
       "<table border=\"1\" class=\"dataframe\">\n",
       "  <thead>\n",
       "    <tr style=\"text-align: right;\">\n",
       "      <th></th>\n",
       "      <th>tweet_id</th>\n",
       "      <th>name</th>\n",
       "      <th>dog_rate</th>\n",
       "      <th>dog_stage</th>\n",
       "    </tr>\n",
       "  </thead>\n",
       "  <tbody>\n",
       "    <tr>\n",
       "      <th>0</th>\n",
       "      <td>892420643555336193</td>\n",
       "      <td>Phineas</td>\n",
       "      <td>1.3</td>\n",
       "      <td>NaN</td>\n",
       "    </tr>\n",
       "    <tr>\n",
       "      <th>1</th>\n",
       "      <td>892177421306343426</td>\n",
       "      <td>Tilly</td>\n",
       "      <td>1.3</td>\n",
       "      <td>NaN</td>\n",
       "    </tr>\n",
       "    <tr>\n",
       "      <th>2</th>\n",
       "      <td>891815181378084864</td>\n",
       "      <td>Archie</td>\n",
       "      <td>1.2</td>\n",
       "      <td>NaN</td>\n",
       "    </tr>\n",
       "    <tr>\n",
       "      <th>3</th>\n",
       "      <td>891689557279858688</td>\n",
       "      <td>Darla</td>\n",
       "      <td>1.3</td>\n",
       "      <td>NaN</td>\n",
       "    </tr>\n",
       "    <tr>\n",
       "      <th>4</th>\n",
       "      <td>891327558926688256</td>\n",
       "      <td>Franklin</td>\n",
       "      <td>1.2</td>\n",
       "      <td>NaN</td>\n",
       "    </tr>\n",
       "  </tbody>\n",
       "</table>\n",
       "</div>"
      ],
      "text/plain": [
       "             tweet_id      name  dog_rate dog_stage\n",
       "0  892420643555336193   Phineas       1.3       NaN\n",
       "1  892177421306343426     Tilly       1.3       NaN\n",
       "2  891815181378084864    Archie       1.2       NaN\n",
       "3  891689557279858688     Darla       1.3       NaN\n",
       "4  891327558926688256  Franklin       1.2       NaN"
      ]
     },
     "execution_count": 89,
     "metadata": {},
     "output_type": "execute_result"
    }
   ],
   "source": [
    "df_archive_clean.head()"
   ]
  },
  {
   "cell_type": "code",
   "execution_count": 90,
   "metadata": {},
   "outputs": [
    {
     "name": "stdout",
     "output_type": "stream",
     "text": [
      "<class 'pandas.core.frame.DataFrame'>\n",
      "RangeIndex: 2075 entries, 0 to 2074\n",
      "Data columns (total 5 columns):\n",
      "tweet_id    2075 non-null int64\n",
      "jpg_url     2075 non-null object\n",
      "img_num     2075 non-null int64\n",
      "p1          2075 non-null object\n",
      "p1_conf     2075 non-null float64\n",
      "dtypes: float64(1), int64(2), object(2)\n",
      "memory usage: 81.1+ KB\n"
     ]
    }
   ],
   "source": [
    "df_images_clean.info()"
   ]
  },
  {
   "cell_type": "code",
   "execution_count": 91,
   "metadata": {},
   "outputs": [
    {
     "data": {
      "text/html": [
       "<div>\n",
       "<style scoped>\n",
       "    .dataframe tbody tr th:only-of-type {\n",
       "        vertical-align: middle;\n",
       "    }\n",
       "\n",
       "    .dataframe tbody tr th {\n",
       "        vertical-align: top;\n",
       "    }\n",
       "\n",
       "    .dataframe thead th {\n",
       "        text-align: right;\n",
       "    }\n",
       "</style>\n",
       "<table border=\"1\" class=\"dataframe\">\n",
       "  <thead>\n",
       "    <tr style=\"text-align: right;\">\n",
       "      <th></th>\n",
       "      <th>tweet_id</th>\n",
       "      <th>jpg_url</th>\n",
       "      <th>img_num</th>\n",
       "      <th>p1</th>\n",
       "      <th>p1_conf</th>\n",
       "    </tr>\n",
       "  </thead>\n",
       "  <tbody>\n",
       "    <tr>\n",
       "      <th>0</th>\n",
       "      <td>666020888022790149</td>\n",
       "      <td>https://pbs.twimg.com/media/CT4udn0WwAA0aMy.jpg</td>\n",
       "      <td>1</td>\n",
       "      <td>Welsh_springer_spaniel</td>\n",
       "      <td>0.465074</td>\n",
       "    </tr>\n",
       "    <tr>\n",
       "      <th>1</th>\n",
       "      <td>666029285002620928</td>\n",
       "      <td>https://pbs.twimg.com/media/CT42GRgUYAA5iDo.jpg</td>\n",
       "      <td>1</td>\n",
       "      <td>redbone</td>\n",
       "      <td>0.506826</td>\n",
       "    </tr>\n",
       "    <tr>\n",
       "      <th>2</th>\n",
       "      <td>666033412701032449</td>\n",
       "      <td>https://pbs.twimg.com/media/CT4521TWwAEvMyu.jpg</td>\n",
       "      <td>1</td>\n",
       "      <td>German_shepherd</td>\n",
       "      <td>0.596461</td>\n",
       "    </tr>\n",
       "    <tr>\n",
       "      <th>3</th>\n",
       "      <td>666044226329800704</td>\n",
       "      <td>https://pbs.twimg.com/media/CT5Dr8HUEAA-lEu.jpg</td>\n",
       "      <td>1</td>\n",
       "      <td>Rhodesian_ridgeback</td>\n",
       "      <td>0.408143</td>\n",
       "    </tr>\n",
       "    <tr>\n",
       "      <th>4</th>\n",
       "      <td>666049248165822465</td>\n",
       "      <td>https://pbs.twimg.com/media/CT5IQmsXIAAKY4A.jpg</td>\n",
       "      <td>1</td>\n",
       "      <td>miniature_pinscher</td>\n",
       "      <td>0.560311</td>\n",
       "    </tr>\n",
       "  </tbody>\n",
       "</table>\n",
       "</div>"
      ],
      "text/plain": [
       "             tweet_id                                          jpg_url  \\\n",
       "0  666020888022790149  https://pbs.twimg.com/media/CT4udn0WwAA0aMy.jpg   \n",
       "1  666029285002620928  https://pbs.twimg.com/media/CT42GRgUYAA5iDo.jpg   \n",
       "2  666033412701032449  https://pbs.twimg.com/media/CT4521TWwAEvMyu.jpg   \n",
       "3  666044226329800704  https://pbs.twimg.com/media/CT5Dr8HUEAA-lEu.jpg   \n",
       "4  666049248165822465  https://pbs.twimg.com/media/CT5IQmsXIAAKY4A.jpg   \n",
       "\n",
       "   img_num                      p1   p1_conf  \n",
       "0        1  Welsh_springer_spaniel  0.465074  \n",
       "1        1                 redbone  0.506826  \n",
       "2        1         German_shepherd  0.596461  \n",
       "3        1     Rhodesian_ridgeback  0.408143  \n",
       "4        1      miniature_pinscher  0.560311  "
      ]
     },
     "execution_count": 91,
     "metadata": {},
     "output_type": "execute_result"
    }
   ],
   "source": [
    "df_images_clean.head()"
   ]
  },
  {
   "cell_type": "code",
   "execution_count": 92,
   "metadata": {},
   "outputs": [
    {
     "name": "stdout",
     "output_type": "stream",
     "text": [
      "<class 'pandas.core.frame.DataFrame'>\n",
      "RangeIndex: 2335 entries, 0 to 2334\n",
      "Data columns (total 4 columns):\n",
      "tweet_id     2335 non-null int64\n",
      "favorites    2335 non-null int64\n",
      "retweets     2335 non-null int64\n",
      "date_time    2335 non-null datetime64[ns]\n",
      "dtypes: datetime64[ns](1), int64(3)\n",
      "memory usage: 73.0 KB\n"
     ]
    }
   ],
   "source": [
    "df_collected_tweet.info()"
   ]
  },
  {
   "cell_type": "code",
   "execution_count": 93,
   "metadata": {},
   "outputs": [
    {
     "data": {
      "text/html": [
       "<div>\n",
       "<style scoped>\n",
       "    .dataframe tbody tr th:only-of-type {\n",
       "        vertical-align: middle;\n",
       "    }\n",
       "\n",
       "    .dataframe tbody tr th {\n",
       "        vertical-align: top;\n",
       "    }\n",
       "\n",
       "    .dataframe thead th {\n",
       "        text-align: right;\n",
       "    }\n",
       "</style>\n",
       "<table border=\"1\" class=\"dataframe\">\n",
       "  <thead>\n",
       "    <tr style=\"text-align: right;\">\n",
       "      <th></th>\n",
       "      <th>tweet_id</th>\n",
       "      <th>favorites</th>\n",
       "      <th>retweets</th>\n",
       "      <th>date_time</th>\n",
       "    </tr>\n",
       "  </thead>\n",
       "  <tbody>\n",
       "    <tr>\n",
       "      <th>0</th>\n",
       "      <td>892420643555336193</td>\n",
       "      <td>37466</td>\n",
       "      <td>8155</td>\n",
       "      <td>2017-08-01 16:23:56</td>\n",
       "    </tr>\n",
       "    <tr>\n",
       "      <th>1</th>\n",
       "      <td>892177421306343426</td>\n",
       "      <td>32196</td>\n",
       "      <td>6036</td>\n",
       "      <td>2017-08-01 00:17:27</td>\n",
       "    </tr>\n",
       "    <tr>\n",
       "      <th>2</th>\n",
       "      <td>891815181378084864</td>\n",
       "      <td>24271</td>\n",
       "      <td>3995</td>\n",
       "      <td>2017-07-31 00:18:03</td>\n",
       "    </tr>\n",
       "    <tr>\n",
       "      <th>3</th>\n",
       "      <td>891689557279858688</td>\n",
       "      <td>40773</td>\n",
       "      <td>8310</td>\n",
       "      <td>2017-07-30 15:58:51</td>\n",
       "    </tr>\n",
       "    <tr>\n",
       "      <th>4</th>\n",
       "      <td>891327558926688256</td>\n",
       "      <td>38998</td>\n",
       "      <td>9002</td>\n",
       "      <td>2017-07-29 16:00:24</td>\n",
       "    </tr>\n",
       "  </tbody>\n",
       "</table>\n",
       "</div>"
      ],
      "text/plain": [
       "             tweet_id  favorites  retweets           date_time\n",
       "0  892420643555336193      37466      8155 2017-08-01 16:23:56\n",
       "1  892177421306343426      32196      6036 2017-08-01 00:17:27\n",
       "2  891815181378084864      24271      3995 2017-07-31 00:18:03\n",
       "3  891689557279858688      40773      8310 2017-07-30 15:58:51\n",
       "4  891327558926688256      38998      9002 2017-07-29 16:00:24"
      ]
     },
     "execution_count": 93,
     "metadata": {},
     "output_type": "execute_result"
    }
   ],
   "source": [
    "df_collected_tweet.head()"
   ]
  },
  {
   "cell_type": "code",
   "execution_count": 94,
   "metadata": {},
   "outputs": [
    {
     "name": "stdout",
     "output_type": "stream",
     "text": [
      "<class 'pandas.core.frame.DataFrame'>\n",
      "Int64Index: 1943 entries, 0 to 1942\n",
      "Data columns (total 11 columns):\n",
      "time_stamp         1943 non-null datetime64[ns]\n",
      "tweet_id           1943 non-null int64\n",
      "favorites          1943 non-null int64\n",
      "retweets           1943 non-null int64\n",
      "dog_name           1356 non-null object\n",
      "dog_rate           1943 non-null float64\n",
      "dog_stage          301 non-null category\n",
      "image_url          1943 non-null object\n",
      "images_count       1943 non-null int64\n",
      "img_prediction     1943 non-null object\n",
      "prediction_conf    1943 non-null float64\n",
      "dtypes: category(1), datetime64[ns](1), float64(2), int64(4), object(3)\n",
      "memory usage: 169.1+ KB\n"
     ]
    }
   ],
   "source": [
    "df_master.info()"
   ]
  },
  {
   "cell_type": "code",
   "execution_count": 95,
   "metadata": {},
   "outputs": [
    {
     "data": {
      "text/html": [
       "<div>\n",
       "<style scoped>\n",
       "    .dataframe tbody tr th:only-of-type {\n",
       "        vertical-align: middle;\n",
       "    }\n",
       "\n",
       "    .dataframe tbody tr th {\n",
       "        vertical-align: top;\n",
       "    }\n",
       "\n",
       "    .dataframe thead th {\n",
       "        text-align: right;\n",
       "    }\n",
       "</style>\n",
       "<table border=\"1\" class=\"dataframe\">\n",
       "  <thead>\n",
       "    <tr style=\"text-align: right;\">\n",
       "      <th></th>\n",
       "      <th>time_stamp</th>\n",
       "      <th>tweet_id</th>\n",
       "      <th>favorites</th>\n",
       "      <th>retweets</th>\n",
       "      <th>dog_name</th>\n",
       "      <th>dog_rate</th>\n",
       "      <th>dog_stage</th>\n",
       "      <th>image_url</th>\n",
       "      <th>images_count</th>\n",
       "      <th>img_prediction</th>\n",
       "      <th>prediction_conf</th>\n",
       "    </tr>\n",
       "  </thead>\n",
       "  <tbody>\n",
       "    <tr>\n",
       "      <th>0</th>\n",
       "      <td>2017-08-01 16:23:56</td>\n",
       "      <td>892420643555336193</td>\n",
       "      <td>37466</td>\n",
       "      <td>8155</td>\n",
       "      <td>Phineas</td>\n",
       "      <td>1.3</td>\n",
       "      <td>NaN</td>\n",
       "      <td>https://pbs.twimg.com/media/DGKD1-bXoAAIAUK.jpg</td>\n",
       "      <td>1</td>\n",
       "      <td>orange</td>\n",
       "      <td>0.097049</td>\n",
       "    </tr>\n",
       "    <tr>\n",
       "      <th>1</th>\n",
       "      <td>2017-08-01 00:17:27</td>\n",
       "      <td>892177421306343426</td>\n",
       "      <td>32196</td>\n",
       "      <td>6036</td>\n",
       "      <td>Tilly</td>\n",
       "      <td>1.3</td>\n",
       "      <td>NaN</td>\n",
       "      <td>https://pbs.twimg.com/media/DGGmoV4XsAAUL6n.jpg</td>\n",
       "      <td>1</td>\n",
       "      <td>Chihuahua</td>\n",
       "      <td>0.323581</td>\n",
       "    </tr>\n",
       "    <tr>\n",
       "      <th>2</th>\n",
       "      <td>2017-07-31 00:18:03</td>\n",
       "      <td>891815181378084864</td>\n",
       "      <td>24271</td>\n",
       "      <td>3995</td>\n",
       "      <td>Archie</td>\n",
       "      <td>1.2</td>\n",
       "      <td>NaN</td>\n",
       "      <td>https://pbs.twimg.com/media/DGBdLU1WsAANxJ9.jpg</td>\n",
       "      <td>1</td>\n",
       "      <td>Chihuahua</td>\n",
       "      <td>0.716012</td>\n",
       "    </tr>\n",
       "    <tr>\n",
       "      <th>3</th>\n",
       "      <td>2017-07-30 15:58:51</td>\n",
       "      <td>891689557279858688</td>\n",
       "      <td>40773</td>\n",
       "      <td>8310</td>\n",
       "      <td>Darla</td>\n",
       "      <td>1.3</td>\n",
       "      <td>NaN</td>\n",
       "      <td>https://pbs.twimg.com/media/DF_q7IAWsAEuuN8.jpg</td>\n",
       "      <td>1</td>\n",
       "      <td>paper_towel</td>\n",
       "      <td>0.170278</td>\n",
       "    </tr>\n",
       "    <tr>\n",
       "      <th>4</th>\n",
       "      <td>2017-07-29 16:00:24</td>\n",
       "      <td>891327558926688256</td>\n",
       "      <td>38998</td>\n",
       "      <td>9002</td>\n",
       "      <td>Franklin</td>\n",
       "      <td>1.2</td>\n",
       "      <td>NaN</td>\n",
       "      <td>https://pbs.twimg.com/media/DF6hr6BUMAAzZgT.jpg</td>\n",
       "      <td>2</td>\n",
       "      <td>basset</td>\n",
       "      <td>0.555712</td>\n",
       "    </tr>\n",
       "  </tbody>\n",
       "</table>\n",
       "</div>"
      ],
      "text/plain": [
       "           time_stamp            tweet_id  favorites  retweets  dog_name  \\\n",
       "0 2017-08-01 16:23:56  892420643555336193      37466      8155   Phineas   \n",
       "1 2017-08-01 00:17:27  892177421306343426      32196      6036     Tilly   \n",
       "2 2017-07-31 00:18:03  891815181378084864      24271      3995    Archie   \n",
       "3 2017-07-30 15:58:51  891689557279858688      40773      8310     Darla   \n",
       "4 2017-07-29 16:00:24  891327558926688256      38998      9002  Franklin   \n",
       "\n",
       "   dog_rate dog_stage                                        image_url  \\\n",
       "0       1.3       NaN  https://pbs.twimg.com/media/DGKD1-bXoAAIAUK.jpg   \n",
       "1       1.3       NaN  https://pbs.twimg.com/media/DGGmoV4XsAAUL6n.jpg   \n",
       "2       1.2       NaN  https://pbs.twimg.com/media/DGBdLU1WsAANxJ9.jpg   \n",
       "3       1.3       NaN  https://pbs.twimg.com/media/DF_q7IAWsAEuuN8.jpg   \n",
       "4       1.2       NaN  https://pbs.twimg.com/media/DF6hr6BUMAAzZgT.jpg   \n",
       "\n",
       "   images_count img_prediction  prediction_conf  \n",
       "0             1         orange         0.097049  \n",
       "1             1      Chihuahua         0.323581  \n",
       "2             1      Chihuahua         0.716012  \n",
       "3             1    paper_towel         0.170278  \n",
       "4             2         basset         0.555712  "
      ]
     },
     "execution_count": 95,
     "metadata": {},
     "output_type": "execute_result"
    }
   ],
   "source": [
    "df_master.head()"
   ]
  },
  {
   "cell_type": "markdown",
   "metadata": {},
   "source": [
    "## Project's Analyzing and Visualizing  "
   ]
  },
  {
   "cell_type": "code",
   "execution_count": 114,
   "metadata": {},
   "outputs": [
    {
     "data": {
      "image/png": "[encoded data removed]",
      "text/plain": [
       "<Figure size 576x360 with 1 Axes>"
      ]
     },
     "metadata": {
      "needs_background": "light"
     },
     "output_type": "display_data"
    }
   ],
   "source": [
    "rate_graph  = df_master.dog_rate.plot.hist(bins=30, color='#697a8e', alpha=0.8, rwidth=1,\n",
    "                                grid=True, ylim=(0,500), figsize=(8, 5), edgecolor='white', linestyle='dashed');\n",
    "\n",
    "rate_graph.set_title('Distribution of Dogs Rates', size = 14)\n",
    "rate_graph.set_xlabel('Rates', size = 14, labelpad=20)\n",
    "rate_graph.set_ylabel('Frequency', size = 14,labelpad=20)\n",
    "rate_graph.grid(True, which='major', color='gray', alpha=0.1);"
   ]
  },
  {
   "cell_type": "code",
   "execution_count": 131,
   "metadata": {},
   "outputs": [
    {
     "data": {
      "image/png": "[encoded data removed]",
      "text/plain": [
       "<Figure size 720x720 with 2 Axes>"
      ]
     },
     "metadata": {
      "needs_background": "light"
     },
     "output_type": "display_data"
    }
   ],
   "source": [
    "sum_retweets = df_master.groupby('dog_stage')['retweets'].sum()\n",
    "sum_favorites = df_master.groupby('dog_stage')['favorites'].sum()\n",
    "\n",
    "plt.subplot(2,1,1) \n",
    "stages_graph = sum_retweets.plot(kind='bar', figsize=(10, 10), alpha=0.8, color='#8d9db6' ,edgecolor='black')\n",
    "stages_graph.set_title('Dogs Stages vs Retweets', size = 14)\n",
    "stages_graph.set_xlabel('')\n",
    "stages_graph.set_ylabel('Retweets', size = 14, labelpad=20)\n",
    "stages_graph.set_xticklabels([], size = 14, rotation = 25)\n",
    "rate_graph.grid(True, which='major', color='gray', alpha=0.1);\n",
    "\n",
    "plt.subplot(2,1,2) \n",
    "stages_graph = sum_favorites.plot(kind='bar', figsize=(10, 10), alpha=0.8, color='#eeac99' ,edgecolor='black')\n",
    "stages_graph.set_title('Dogs Stages vs Retweets', size = 14)\n",
    "stages_graph.set_xlabel('Dog Stages', size = 14, labelpad=20)\n",
    "stages_graph.set_ylabel('favorites', size = 14, labelpad=20)\n",
    "stages_graph.set_xticklabels(['doggo','floofer','pupper','puppo'], size = 14, rotation = 25)\n",
    "rate_graph.grid(True, which='major', color='gray', alpha=0.1);"
   ]
  },
  {
   "cell_type": "code",
   "execution_count": 153,
   "metadata": {},
   "outputs": [
    {
     "data": {
      "image/png": "[encoded data removed]",
      "text/plain": [
       "<Figure size 432x288 with 1 Axes>"
      ]
     },
     "metadata": {
      "needs_background": "light"
     },
     "output_type": "display_data"
    }
   ],
   "source": [
    "sns.regplot(x=\"retweets\", y=\"favorites\", data=df_master);"
   ]
  },
  {
   "cell_type": "markdown",
   "metadata": {},
   "source": [
    "## Project's Insights"
   ]
  },
  {
   "cell_type": "markdown",
   "metadata": {},
   "source": [
    "**#1#** Funny fact: Most of the dogs in this study have +10/10 rates :) \n",
    "* Rates Mean: 10.05/10\n",
    "* Rates Median: 11/10\n",
    "* Rates Max: 14/10\n",
    "* Rates Min: 1/10"
   ]
  },
  {
   "cell_type": "markdown",
   "metadata": {},
   "source": [
    "**#2#** The most favorited Dog Stage is (Pupper) stage, which has both the hights retweet and favorites rates. This stage is followed by Doggo, Puppo and finally Floofer stages. "
   ]
  },
  {
   "cell_type": "markdown",
   "metadata": {},
   "source": [
    "**#3#** More retweets rate indicates more faviorate rate. "
   ]
  }
 ],
 "metadata": {
  "kernelspec": {
   "display_name": "Python 3",
   "language": "python",
   "name": "python3"
  },
  "language_info": {
   "codemirror_mode": {
    "name": "ipython",
    "version": 3
   },
   "file_extension": ".py",
   "mimetype": "text/x-python",
   "name": "python",
   "nbconvert_exporter": "python",
   "pygments_lexer": "ipython3",
   "version": "3.7.2"
  }
 },
 "nbformat": 4,
 "nbformat_minor": 2
}
