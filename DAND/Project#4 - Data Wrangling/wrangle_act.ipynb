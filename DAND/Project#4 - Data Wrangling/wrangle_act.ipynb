{
 "cells": [
  {
   "cell_type": "markdown",
   "metadata": {},
   "source": [
    "# Project#4 - Wrangle and Analyze Data\n",
    "> **Developed By**: Rakan210 on June 17, 2019 - as psrt of Udacity Data Analyst Nanodegree program (DAND)"
   ]
  },
  {
   "cell_type": "markdown",
   "metadata": {},
   "source": [
    "### Project Steps\n",
    "1. **Gathering data**\n",
    "2. **Assessing data**\n",
    "3. **Cleaning data**"
   ]
  },
  {
   "cell_type": "markdown",
   "metadata": {},
   "source": [
    "### Part#1: Gathering Data:- \n",
    "This projet required 3 source of data to be gathered: \n",
    "* The WeRateDogs Twitter archive, which is provided in the following link: [ [twitter_archive_enhanced.csv](https://d17h27t6h515a5.cloudfront.net/topher/2017/August/59a4e958_twitter-archive-enhanced/twitter-archive-enhanced.csv) ].\n",
    "* The tweet image predictions, i.e., what breed of dog (or other object, animal, etc.) is present in each tweet according to a neural network. This file (image_predictions.tsv) is hosted on Udacity's servers and should be downloaded programmatically using the Requests library and the following [ URL ](https://d17h27t6h515a5.cloudfront.net/topher/2017/August/599fd2ad_image-predictions/image-predictions.tsv).\n",
    "* Each tweet's retweet count and favorite (\"like\") count at minimum, and any additional data you find interesting. Using the tweet IDs in the WeRateDogs Twitter archive, query the Twitter API for each tweet's JSON data using Python's Tweepy library and store each tweet's entire set of JSON data in a file called `tweet_json.txt` file. Each tweet's JSON data should be written to its own line. Then read this .txt file line by line into a pandas DataFrame with (at minimum) tweet ID, retweet count, and favorite count. Note: do not include your Twitter API keys, secrets, and tokens in your project submission."
   ]
  },
  {
   "cell_type": "code",
   "execution_count": 1,
   "metadata": {},
   "outputs": [],
   "source": [
    "import pandas as pd\n",
    "import numpy as np\n",
    "import requests\n",
    "import tweepy\n",
    "import json\n",
    "import time\n",
    "import matplotlib.pyplot as plt\n",
    "import seaborn as sns\n",
    "%matplotlib inline"
   ]
  },
  {
   "cell_type": "markdown",
   "metadata": {},
   "source": [
    "**1. Reading WeRateDogs Twitter archive Data**"
   ]
  },
  {
   "cell_type": "code",
   "execution_count": 2,
   "metadata": {},
   "outputs": [],
   "source": [
    "df_archive = pd.read_csv('twitter-archive-enhanced.csv', encoding = 'utf-8')"
   ]
  },
  {
   "cell_type": "markdown",
   "metadata": {},
   "source": [
    "**2. Obtaining Image Predictions Data Through a URL**"
   ]
  },
  {
   "cell_type": "code",
   "execution_count": 3,
   "metadata": {},
   "outputs": [],
   "source": [
    "# download tsv using Requests Liburary and write it to a file\n",
    "with open('image_predictions.tsv', 'wb') as file:\n",
    "    file.write(requests.get(\"https://d17h27t6h515a5.cloudfront.net/topher/2017/August/599fd2ad_image-predictions/image-predictions.tsv\")\n",
    ".content)\n",
    "\n",
    "# Converting (TSV) file to Pandas Dataframe: \n",
    "df_images = pd.read_csv('image_predictions.tsv', sep='\\t', encoding = 'utf-8')"
   ]
  },
  {
   "cell_type": "markdown",
   "metadata": {},
   "source": [
    "**3. Obtaining Other Tweets Data Through Twitter APIs**"
   ]
  },
  {
   "cell_type": "code",
   "execution_count": 4,
   "metadata": {},
   "outputs": [],
   "source": [
    "# Initiating the required keys for Twitter API\n",
    "consumer_key = 'LzFMckBn32a2NCDKPOaLJEfiV'\n",
    "consumer_secret = 'BTsilq6PnYYbDSNx47y7LSvg4pBAi0ke3sY2eZm1TLOx2RSXmo'\n",
    "access_token = '433095012-ha6nyKGKJAr6zxPoZoIYSu50bYQTgtPgtTPpgt2T'\n",
    "access_secret = 'DRtdW6Op1C9puYNUXO8eRpqX5pMOuZOdlr3kqU3h71xEz'\n",
    "\n",
    "auth = tweepy.OAuthHandler(consumer_key, consumer_secret)\n",
    "auth.set_access_token(access_token, access_secret)\n",
    "\n",
    "api = tweepy.API(auth_handler = auth, wait_on_rate_limit = True,wait_on_rate_limit_notify = True)"
   ]
  },
  {
   "cell_type": "code",
   "execution_count": 5,
   "metadata": {},
   "outputs": [
    {
     "name": "stdout",
     "output_type": "stream",
     "text": [
      "\n",
      "\n",
      " ===| Start processing Twitter API Data |=== \n",
      "\n",
      "\n",
      "Error[ 20 ]: Tweet ID ( 888202515573088257 ) -  [{'code': 144, 'message': 'No status found with that ID.'}]\n",
      "Error[ 96 ]: Tweet ID ( 873697596434513921 ) -  [{'code': 144, 'message': 'No status found with that ID.'}]\n",
      "Error[ 102 ]: Tweet ID ( 872668790621863937 ) -  [{'code': 144, 'message': 'No status found with that ID.'}]\n",
      "Error[ 105 ]: Tweet ID ( 872261713294495745 ) -  [{'code': 144, 'message': 'No status found with that ID.'}]\n",
      "Error[ 119 ]: Tweet ID ( 869988702071779329 ) -  [{'code': 144, 'message': 'No status found with that ID.'}]\n",
      "Error[ 133 ]: Tweet ID ( 866816280283807744 ) -  [{'code': 144, 'message': 'No status found with that ID.'}]\n",
      "Error[ 156 ]: Tweet ID ( 861769973181624320 ) -  [{'code': 144, 'message': 'No status found with that ID.'}]\n",
      "Error[ 183 ]: Tweet ID ( 856602993587888130 ) -  [{'code': 144, 'message': 'No status found with that ID.'}]\n",
      "Error[ 212 ]: Tweet ID ( 851953902622658560 ) -  [{'code': 144, 'message': 'No status found with that ID.'}]\n",
      "Error[ 248 ]: Tweet ID ( 845459076796616705 ) -  [{'code': 144, 'message': 'No status found with that ID.'}]\n",
      "Error[ 254 ]: Tweet ID ( 844704788403113984 ) -  [{'code': 144, 'message': 'No status found with that ID.'}]\n",
      "Error[ 261 ]: Tweet ID ( 842892208864923648 ) -  [{'code': 144, 'message': 'No status found with that ID.'}]\n",
      "Error[ 299 ]: Tweet ID ( 837012587749474308 ) -  [{'code': 144, 'message': 'No status found with that ID.'}]\n",
      "Error[ 364 ]: Tweet ID ( 829374341691346946 ) -  [{'code': 144, 'message': 'No status found with that ID.'}]\n",
      "Error[ 383 ]: Tweet ID ( 827228250799742977 ) -  [{'code': 144, 'message': 'No status found with that ID.'}]\n",
      "Error[ 507 ]: Tweet ID ( 812747805718642688 ) -  [{'code': 144, 'message': 'No status found with that ID.'}]\n",
      "Error[ 567 ]: Tweet ID ( 802247111496568832 ) -  [{'code': 144, 'message': 'No status found with that ID.'}]\n",
      "Error[ 785 ]: Tweet ID ( 775096608509886464 ) -  [{'code': 144, 'message': 'No status found with that ID.'}]\n",
      "Error[ 819 ]: Tweet ID ( 770743923962707968 ) -  [{'code': 144, 'message': 'No status found with that ID.'}]\n",
      "Error[ 933 ]: Tweet ID ( 754011816964026368 ) -  [{'code': 144, 'message': 'No status found with that ID.'}]\n",
      "Error[ 1727 ]: Tweet ID ( 680055455951884288 ) -  [{'code': 144, 'message': 'No status found with that ID.'}]\n",
      "\n",
      "\n",
      " ===| The estimated processing time is: [  63.07  ] mins |===\n",
      "\n",
      "\n"
     ]
    }
   ],
   "source": [
    "# This list holds all required infor for each tweet:\n",
    "collected_tweet = []\n",
    "\n",
    "# This list holds all tweet ids in case of API error, along witht the error message: \n",
    "collected_error = []\n",
    "\n",
    "# Quick timer to estimate processing time:  \n",
    "start_time = time.time() \n",
    "\n",
    "index = 0\n",
    "\n",
    "print('\\n\\n ===| Start processing Twitter API Data |=== \\n\\n')\n",
    "\n",
    "\n",
    "# The API will bw used now to query and write the result in a JSON file: \n",
    "with open('tweet_json.txt','a',encoding = 'utf8') as file:\n",
    "    for tweet_id in df_archive.tweet_id:\n",
    "        try:\n",
    "            index = index + 1\n",
    "            # Get all tweet info with \"Extended\" mode:\n",
    "            tweet_info = api.get_status(tweet_id, tweet_mode = 'extended')\n",
    "            \n",
    "            # Dump tweet info as a JSON object in \"tweet_json.txt\" (required step):\n",
    "            json.dump(tweet_info._json, file)\n",
    "            file.write('\\n')\n",
    "            \n",
    "            # Dump selective info about each tweet:\n",
    "            collected_tweet.append({ 'tweet_id' : int(tweet_id),\n",
    "                                     'favorites': int(tweet_info._json['favorite_count']),\n",
    "                                     'retweets' : int(tweet_info._json['retweet_count']),\n",
    "                                     'date_time': pd.to_datetime(tweet_info._json['created_at'])})\n",
    "            \n",
    "        # Handling expected errors:   \n",
    "        except Exception as e:\n",
    "            collected_error.append(tweet_id)\n",
    "            print('Error[', index ,']: Tweet ID (', tweet_id ,') - ' , str(e))\n",
    "            \n",
    "\n",
    "print('\\n\\n ===| The estimated processing time is: [ ' , round((time.time() - start_time)/60,2) , ' ] mins |===\\n\\n')"
   ]
  },
  {
   "cell_type": "code",
   "execution_count": 6,
   "metadata": {},
   "outputs": [],
   "source": [
    "# Converting collected tweets to a DataFrame and save it as a CSV file:\n",
    "df_collected_tweet = pd.DataFrame(collected_tweet, columns = ['tweet_id', 'favorites', 'retweets', 'date_time'])\n",
    "df_collected_tweet.to_csv('tweet_json_cleaned.txt', encoding = 'utf-8', index=False)"
   ]
  },
  {
   "cell_type": "markdown",
   "metadata": {},
   "source": [
    "### Part#2: Assessing Data:- \n",
    "\n",
    "After gathering each of the above pieces of data, assess them visually and programmatically for quality and tidiness issues. Detect and document at least eight (8) quality issues and two (2) tidiness issues in your wrangle_act.ipynb Jupyter Notebook. "
   ]
  },
  {
   "cell_type": "markdown",
   "metadata": {},
   "source": [
    "### Quality  issues: (completeness, validity, accuracy, and consistency issues)\n",
    "\n",
    "**Note: Visual assessment (VA) & Programmatic assessment (PA)**\n",
    "\n",
    "\n",
    "**df_archive:**\n",
    "* (PA) Change datatype of [timestamp] to datetime64 and [rating_numerator] to float.\n",
    "* (VA) Rename column labels to a descriptive ones.\n",
    "* (VA) Change all 'None' values should be changed to NP.NaN.\n",
    "* (PA) Delete all Retweets/Replys records since they shouldn't be considered. ([retweeted_status*] & [in_reply_to*] columns)\n",
    "* (VA) Modify some records that have inaccurate value in [rating_denominator] as it reasonibly to be fixed to or be multiple of \"10\".\n",
    "* (PA) Modify some records that have inaccurate value in [rating_numerator] due to the existing of the dicimal.\n",
    "* (VA) Replace invalid dogs' names with NP.NaN.\n",
    "* (PA) Not all tweets have predictions photo (Archive Tweets \"df_archive\": 2356 rows , Predection Images \"df_images\": 2075 rows), so only tweet with images will be considered. \n",
    "* (PA) Delete all records that missing values in [expanded_url] column as they indicate ratings without an image.\n",
    "\n",
    " \n",
    "### Tidiness issues: (structural issues)\n",
    "**df_archive:**\n",
    "* Combine dog stages (doggo, floofer, pupper and puppo) into one column called [dog_stage].\n",
    "* Combine rating columns into one column called [dog_rating]\n",
    "\n",
    "**df_master:**\n",
    "* Combine all DataFrames into one master DataFrame called [df_master]. Its content should be stored in `twitter_archive_master.csv`."
   ]
  },
  {
   "cell_type": "markdown",
   "metadata": {},
   "source": [
    "### Detailed Data Assessment: "
   ]
  },
  {
   "cell_type": "markdown",
   "metadata": {},
   "source": [
    "1. **(PA) Change datatype of [timestamp] to datetime64 and [rating_numerator] to float.**\n",
    "2. **(VA) Rename column labels to a descriptive ones.**"
   ]
  },
  {
   "cell_type": "code",
   "execution_count": 7,
   "metadata": {},
   "outputs": [
    {
     "name": "stdout",
     "output_type": "stream",
     "text": [
      "<class 'pandas.core.frame.DataFrame'>\n",
      "RangeIndex: 2356 entries, 0 to 2355\n",
      "Data columns (total 17 columns):\n",
      "tweet_id                      2356 non-null int64\n",
      "in_reply_to_status_id         78 non-null float64\n",
      "in_reply_to_user_id           78 non-null float64\n",
      "timestamp                     2356 non-null object\n",
      "source                        2356 non-null object\n",
      "text                          2356 non-null object\n",
      "retweeted_status_id           181 non-null float64\n",
      "retweeted_status_user_id      181 non-null float64\n",
      "retweeted_status_timestamp    181 non-null object\n",
      "expanded_urls                 2297 non-null object\n",
      "rating_numerator              2356 non-null int64\n",
      "rating_denominator            2356 non-null int64\n",
      "name                          2356 non-null object\n",
      "doggo                         2356 non-null object\n",
      "floofer                       2356 non-null object\n",
      "pupper                        2356 non-null object\n",
      "puppo                         2356 non-null object\n",
      "dtypes: float64(4), int64(3), object(10)\n",
      "memory usage: 313.0+ KB\n"
     ]
    }
   ],
   "source": [
    "df_archive.info()"
   ]
  },
  {
   "cell_type": "markdown",
   "metadata": {},
   "source": [
    "3. **(VA) Change all 'None' values should be changed to NP.NaN.**\n",
    "4. **(PA) Delete all Retweets/Replys records since they shouldn't be considered. ([retweeted_status*] & [in_reply_to*] columns)**"
   ]
  },
  {
   "cell_type": "code",
   "execution_count": 8,
   "metadata": {},
   "outputs": [
    {
     "data": {
      "text/html": [
       "<div>\n",
       "<style scoped>\n",
       "    .dataframe tbody tr th:only-of-type {\n",
       "        vertical-align: middle;\n",
       "    }\n",
       "\n",
       "    .dataframe tbody tr th {\n",
       "        vertical-align: top;\n",
       "    }\n",
       "\n",
       "    .dataframe thead th {\n",
       "        text-align: right;\n",
       "    }\n",
       "</style>\n",
       "<table border=\"1\" class=\"dataframe\">\n",
       "  <thead>\n",
       "    <tr style=\"text-align: right;\">\n",
       "      <th></th>\n",
       "      <th>tweet_id</th>\n",
       "      <th>floofer</th>\n",
       "      <th>puppo</th>\n",
       "      <th>retweeted_status_id</th>\n",
       "      <th>in_reply_to_status_id</th>\n",
       "    </tr>\n",
       "  </thead>\n",
       "  <tbody>\n",
       "    <tr>\n",
       "      <th>204</th>\n",
       "      <td>852936405516943360</td>\n",
       "      <td>None</td>\n",
       "      <td>None</td>\n",
       "      <td>8.316501e+17</td>\n",
       "      <td>NaN</td>\n",
       "    </tr>\n",
       "    <tr>\n",
       "      <th>851</th>\n",
       "      <td>765669560888528897</td>\n",
       "      <td>None</td>\n",
       "      <td>None</td>\n",
       "      <td>NaN</td>\n",
       "      <td>NaN</td>\n",
       "    </tr>\n",
       "    <tr>\n",
       "      <th>1277</th>\n",
       "      <td>709042156699303936</td>\n",
       "      <td>None</td>\n",
       "      <td>None</td>\n",
       "      <td>NaN</td>\n",
       "      <td>NaN</td>\n",
       "    </tr>\n",
       "    <tr>\n",
       "      <th>1655</th>\n",
       "      <td>683391852557561860</td>\n",
       "      <td>None</td>\n",
       "      <td>None</td>\n",
       "      <td>NaN</td>\n",
       "      <td>NaN</td>\n",
       "    </tr>\n",
       "    <tr>\n",
       "      <th>1662</th>\n",
       "      <td>682962037429899265</td>\n",
       "      <td>None</td>\n",
       "      <td>None</td>\n",
       "      <td>NaN</td>\n",
       "      <td>NaN</td>\n",
       "    </tr>\n",
       "  </tbody>\n",
       "</table>\n",
       "</div>"
      ],
      "text/plain": [
       "                tweet_id floofer puppo  retweeted_status_id  \\\n",
       "204   852936405516943360    None  None         8.316501e+17   \n",
       "851   765669560888528897    None  None                  NaN   \n",
       "1277  709042156699303936    None  None                  NaN   \n",
       "1655  683391852557561860    None  None                  NaN   \n",
       "1662  682962037429899265    None  None                  NaN   \n",
       "\n",
       "      in_reply_to_status_id  \n",
       "204                     NaN  \n",
       "851                     NaN  \n",
       "1277                    NaN  \n",
       "1655                    NaN  \n",
       "1662                    NaN  "
      ]
     },
     "execution_count": 8,
     "metadata": {},
     "output_type": "execute_result"
    }
   ],
   "source": [
    "df_archive[['tweet_id', 'floofer','puppo','retweeted_status_id','in_reply_to_status_id']].sample(5)"
   ]
  },
  {
   "cell_type": "markdown",
   "metadata": {},
   "source": [
    "**5. (VA) Modify some records that have inaccurate value in [rating_denominator].**"
   ]
  },
  {
   "cell_type": "code",
   "execution_count": 9,
   "metadata": {},
   "outputs": [
    {
     "data": {
      "text/html": [
       "<div>\n",
       "<style scoped>\n",
       "    .dataframe tbody tr th:only-of-type {\n",
       "        vertical-align: middle;\n",
       "    }\n",
       "\n",
       "    .dataframe tbody tr th {\n",
       "        vertical-align: top;\n",
       "    }\n",
       "\n",
       "    .dataframe thead th {\n",
       "        text-align: right;\n",
       "    }\n",
       "</style>\n",
       "<table border=\"1\" class=\"dataframe\">\n",
       "  <thead>\n",
       "    <tr style=\"text-align: right;\">\n",
       "      <th></th>\n",
       "      <th>text</th>\n",
       "      <th>rating_numerator</th>\n",
       "      <th>rating_denominator</th>\n",
       "    </tr>\n",
       "  </thead>\n",
       "  <tbody>\n",
       "    <tr>\n",
       "      <th>313</th>\n",
       "      <td>@jonnysun @Lin_Manuel ok jomny I know you're e...</td>\n",
       "      <td>960</td>\n",
       "      <td>0</td>\n",
       "    </tr>\n",
       "    <tr>\n",
       "      <th>516</th>\n",
       "      <td>Meet Sam. She smiles 24/7 &amp;amp; secretly aspir...</td>\n",
       "      <td>24</td>\n",
       "      <td>7</td>\n",
       "    </tr>\n",
       "    <tr>\n",
       "      <th>2335</th>\n",
       "      <td>This is an Albanian 3 1/2 legged  Episcopalian...</td>\n",
       "      <td>1</td>\n",
       "      <td>2</td>\n",
       "    </tr>\n",
       "  </tbody>\n",
       "</table>\n",
       "</div>"
      ],
      "text/plain": [
       "                                                   text  rating_numerator  \\\n",
       "313   @jonnysun @Lin_Manuel ok jomny I know you're e...               960   \n",
       "516   Meet Sam. She smiles 24/7 &amp; secretly aspir...                24   \n",
       "2335  This is an Albanian 3 1/2 legged  Episcopalian...                 1   \n",
       "\n",
       "      rating_denominator  \n",
       "313                    0  \n",
       "516                    7  \n",
       "2335                   2  "
      ]
     },
     "execution_count": 9,
     "metadata": {},
     "output_type": "execute_result"
    }
   ],
   "source": [
    "df_archive[df_archive.text.str.contains('1/2')|df_archive.text.str.contains('960/0')\n",
    "           |df_archive.text.str.contains('24/7')][['text', 'rating_numerator','rating_denominator']]"
   ]
  },
  {
   "cell_type": "markdown",
   "metadata": {},
   "source": [
    "**6. (PA) Modify some records that have inaccurate value in [rating_numerator]**"
   ]
  },
  {
   "cell_type": "code",
   "execution_count": 10,
   "metadata": {},
   "outputs": [
    {
     "name": "stderr",
     "output_type": "stream",
     "text": [
      "C:\\ProgramData\\Anaconda3\\lib\\site-packages\\ipykernel_launcher.py:1: UserWarning: This pattern has match groups. To actually get the groups, use str.extract.\n",
      "  \"\"\"Entry point for launching an IPython kernel.\n"
     ]
    },
    {
     "data": {
      "text/html": [
       "<div>\n",
       "<style scoped>\n",
       "    .dataframe tbody tr th:only-of-type {\n",
       "        vertical-align: middle;\n",
       "    }\n",
       "\n",
       "    .dataframe tbody tr th {\n",
       "        vertical-align: top;\n",
       "    }\n",
       "\n",
       "    .dataframe thead th {\n",
       "        text-align: right;\n",
       "    }\n",
       "</style>\n",
       "<table border=\"1\" class=\"dataframe\">\n",
       "  <thead>\n",
       "    <tr style=\"text-align: right;\">\n",
       "      <th></th>\n",
       "      <th>text</th>\n",
       "      <th>rating_numerator</th>\n",
       "      <th>rating_denominator</th>\n",
       "    </tr>\n",
       "  </thead>\n",
       "  <tbody>\n",
       "    <tr>\n",
       "      <th>45</th>\n",
       "      <td>This is Bella. She hopes her smile made you sm...</td>\n",
       "      <td>5</td>\n",
       "      <td>10</td>\n",
       "    </tr>\n",
       "    <tr>\n",
       "      <th>340</th>\n",
       "      <td>RT @dog_rates: This is Logan, the Chow who liv...</td>\n",
       "      <td>75</td>\n",
       "      <td>10</td>\n",
       "    </tr>\n",
       "    <tr>\n",
       "      <th>695</th>\n",
       "      <td>This is Logan, the Chow who lived. He solemnly...</td>\n",
       "      <td>75</td>\n",
       "      <td>10</td>\n",
       "    </tr>\n",
       "    <tr>\n",
       "      <th>763</th>\n",
       "      <td>This is Sophie. She's a Jubilant Bush Pupper. ...</td>\n",
       "      <td>27</td>\n",
       "      <td>10</td>\n",
       "    </tr>\n",
       "    <tr>\n",
       "      <th>1689</th>\n",
       "      <td>I've been told there's a slight possibility he...</td>\n",
       "      <td>5</td>\n",
       "      <td>10</td>\n",
       "    </tr>\n",
       "    <tr>\n",
       "      <th>1712</th>\n",
       "      <td>Here we have uncovered an entire battalion of ...</td>\n",
       "      <td>26</td>\n",
       "      <td>10</td>\n",
       "    </tr>\n",
       "  </tbody>\n",
       "</table>\n",
       "</div>"
      ],
      "text/plain": [
       "                                                   text  rating_numerator  \\\n",
       "45    This is Bella. She hopes her smile made you sm...                 5   \n",
       "340   RT @dog_rates: This is Logan, the Chow who liv...                75   \n",
       "695   This is Logan, the Chow who lived. He solemnly...                75   \n",
       "763   This is Sophie. She's a Jubilant Bush Pupper. ...                27   \n",
       "1689  I've been told there's a slight possibility he...                 5   \n",
       "1712  Here we have uncovered an entire battalion of ...                26   \n",
       "\n",
       "      rating_denominator  \n",
       "45                    10  \n",
       "340                   10  \n",
       "695                   10  \n",
       "763                   10  \n",
       "1689                  10  \n",
       "1712                  10  "
      ]
     },
     "execution_count": 10,
     "metadata": {},
     "output_type": "execute_result"
    }
   ],
   "source": [
    "df_archive[df_archive.text.str.contains(r\"(\\d+\\.\\d*\\/\\d+)\")][['text', 'rating_numerator','rating_denominator']]"
   ]
  },
  {
   "cell_type": "markdown",
   "metadata": {},
   "source": [
    "**7. (VA) Replace invalid dogs' names with NP.NaN.**\n"
   ]
  },
  {
   "cell_type": "code",
   "execution_count": 11,
   "metadata": {},
   "outputs": [
    {
     "data": {
      "text/plain": [
       "None       745\n",
       "a           55\n",
       "Charlie     12\n",
       "Cooper      11\n",
       "Oliver      11\n",
       "Name: name, dtype: int64"
      ]
     },
     "execution_count": 11,
     "metadata": {},
     "output_type": "execute_result"
    }
   ],
   "source": [
    "df_archive.name.value_counts().head(5)"
   ]
  },
  {
   "cell_type": "markdown",
   "metadata": {},
   "source": [
    "**8. (PA) Not all tweets have predictions photo**"
   ]
  },
  {
   "cell_type": "code",
   "execution_count": 12,
   "metadata": {},
   "outputs": [
    {
     "data": {
      "text/plain": [
       "(2356, 2075)"
      ]
     },
     "execution_count": 12,
     "metadata": {},
     "output_type": "execute_result"
    }
   ],
   "source": [
    "df_archive.shape[0],df_images.shape[0]"
   ]
  },
  {
   "cell_type": "markdown",
   "metadata": {},
   "source": [
    "**9. (PA) Delete all records that missing values in [expanded_urls] column as they indicate ratings without an image.**"
   ]
  },
  {
   "cell_type": "code",
   "execution_count": 13,
   "metadata": {},
   "outputs": [
    {
     "data": {
      "text/plain": [
       "59"
      ]
     },
     "execution_count": 13,
     "metadata": {},
     "output_type": "execute_result"
    }
   ],
   "source": [
    "df_archive.expanded_urls.isnull().sum()"
   ]
  },
  {
   "cell_type": "markdown",
   "metadata": {},
   "source": [
    "**Combine dog stages (doggo, floofer, pupper and puppo) into one column called [dog_stage].**"
   ]
  },
  {
   "cell_type": "code",
   "execution_count": 14,
   "metadata": {},
   "outputs": [
    {
     "data": {
      "text/html": [
       "<div>\n",
       "<style scoped>\n",
       "    .dataframe tbody tr th:only-of-type {\n",
       "        vertical-align: middle;\n",
       "    }\n",
       "\n",
       "    .dataframe tbody tr th {\n",
       "        vertical-align: top;\n",
       "    }\n",
       "\n",
       "    .dataframe thead th {\n",
       "        text-align: right;\n",
       "    }\n",
       "</style>\n",
       "<table border=\"1\" class=\"dataframe\">\n",
       "  <thead>\n",
       "    <tr style=\"text-align: right;\">\n",
       "      <th></th>\n",
       "      <th>doggo</th>\n",
       "      <th>floofer</th>\n",
       "      <th>pupper</th>\n",
       "      <th>puppo</th>\n",
       "    </tr>\n",
       "  </thead>\n",
       "  <tbody>\n",
       "    <tr>\n",
       "      <th>1311</th>\n",
       "      <td>None</td>\n",
       "      <td>None</td>\n",
       "      <td>None</td>\n",
       "      <td>None</td>\n",
       "    </tr>\n",
       "    <tr>\n",
       "      <th>495</th>\n",
       "      <td>None</td>\n",
       "      <td>None</td>\n",
       "      <td>None</td>\n",
       "      <td>None</td>\n",
       "    </tr>\n",
       "    <tr>\n",
       "      <th>267</th>\n",
       "      <td>None</td>\n",
       "      <td>None</td>\n",
       "      <td>None</td>\n",
       "      <td>None</td>\n",
       "    </tr>\n",
       "    <tr>\n",
       "      <th>1401</th>\n",
       "      <td>None</td>\n",
       "      <td>None</td>\n",
       "      <td>pupper</td>\n",
       "      <td>None</td>\n",
       "    </tr>\n",
       "    <tr>\n",
       "      <th>305</th>\n",
       "      <td>None</td>\n",
       "      <td>None</td>\n",
       "      <td>None</td>\n",
       "      <td>None</td>\n",
       "    </tr>\n",
       "  </tbody>\n",
       "</table>\n",
       "</div>"
      ],
      "text/plain": [
       "     doggo floofer  pupper puppo\n",
       "1311  None    None    None  None\n",
       "495   None    None    None  None\n",
       "267   None    None    None  None\n",
       "1401  None    None  pupper  None\n",
       "305   None    None    None  None"
      ]
     },
     "execution_count": 14,
     "metadata": {},
     "output_type": "execute_result"
    }
   ],
   "source": [
    "df_archive[['doggo', 'floofer','pupper','puppo']].sample(5)"
   ]
  },
  {
   "cell_type": "markdown",
   "metadata": {},
   "source": [
    "**Combine rating columns into one column called [dog_rating]**"
   ]
  },
  {
   "cell_type": "code",
   "execution_count": 15,
   "metadata": {},
   "outputs": [
    {
     "data": {
      "text/html": [
       "<div>\n",
       "<style scoped>\n",
       "    .dataframe tbody tr th:only-of-type {\n",
       "        vertical-align: middle;\n",
       "    }\n",
       "\n",
       "    .dataframe tbody tr th {\n",
       "        vertical-align: top;\n",
       "    }\n",
       "\n",
       "    .dataframe thead th {\n",
       "        text-align: right;\n",
       "    }\n",
       "</style>\n",
       "<table border=\"1\" class=\"dataframe\">\n",
       "  <thead>\n",
       "    <tr style=\"text-align: right;\">\n",
       "      <th></th>\n",
       "      <th>rating_numerator</th>\n",
       "      <th>rating_denominator</th>\n",
       "    </tr>\n",
       "  </thead>\n",
       "  <tbody>\n",
       "    <tr>\n",
       "      <th>109</th>\n",
       "      <td>12</td>\n",
       "      <td>10</td>\n",
       "    </tr>\n",
       "    <tr>\n",
       "      <th>968</th>\n",
       "      <td>13</td>\n",
       "      <td>10</td>\n",
       "    </tr>\n",
       "    <tr>\n",
       "      <th>1673</th>\n",
       "      <td>9</td>\n",
       "      <td>10</td>\n",
       "    </tr>\n",
       "    <tr>\n",
       "      <th>1626</th>\n",
       "      <td>11</td>\n",
       "      <td>10</td>\n",
       "    </tr>\n",
       "    <tr>\n",
       "      <th>872</th>\n",
       "      <td>13</td>\n",
       "      <td>10</td>\n",
       "    </tr>\n",
       "  </tbody>\n",
       "</table>\n",
       "</div>"
      ],
      "text/plain": [
       "      rating_numerator  rating_denominator\n",
       "109                 12                  10\n",
       "968                 13                  10\n",
       "1673                 9                  10\n",
       "1626                11                  10\n",
       "872                 13                  10"
      ]
     },
     "execution_count": 15,
     "metadata": {},
     "output_type": "execute_result"
    }
   ],
   "source": [
    "df_archive[['rating_numerator', 'rating_denominator']].sample(5)"
   ]
  },
  {
   "cell_type": "markdown",
   "metadata": {},
   "source": [
    "\n",
    "\n",
    "##### Note: Bold columns will be marged in the master dataframe\n",
    "\n",
    "**#df_archive:**\n",
    "* **tweet_id**                      - Required for Analysis\n",
    "* in_reply_to_status_id         - Required for Clean up\n",
    "* in_reply_to_user_id           - Required for Clean up\n",
    "* timestamp                     - Not required\n",
    "* source                        - Not required\n",
    "* text                          - Not required\n",
    "* retweeted_status_id           - Required for Clean up\n",
    "* retweeted_status_user_id      - Required for Clean up\n",
    "* retweeted_status_timestamp    - Required for Clean up\n",
    "* expanded_urls                 - Required for Clean up\n",
    "* **rating_numerator**              - Required for Anaysis & Clean up \n",
    "* **rating_denominator**            - Required for Anaysis & Clean up \n",
    "* **name**                          - Required for Anaysis & Clean up \n",
    "* doggo                         - Required for Anaysis & Clean up \n",
    "* floofer                       - Required for Anaysis & Clean up \n",
    "* pupper                        - Required for Anaysis & Clean up \n",
    "* puppo                         - Required for Anaysis & Clean up \n",
    "\n",
    "\n",
    "**#df_images:**\n",
    "* **tweet_id**    - Required for Anaysis \n",
    "* **jpg_url**     - Required for Anaysis \n",
    "* **img_num**     - Required for Anaysis \n",
    "* **p1**          - Required for Anaysis \n",
    "* **p1_conf**     - Required for Anaysis \n",
    "* p1_dog      - Not required\n",
    "* p2          - Not required\n",
    "* p2_conf     - Not required\n",
    "* p2_dog      - Not required\n",
    "* p3          - Not required\n",
    "* p3_conf     - Not required\n",
    "* p3_dog      - Not required\n",
    "\n",
    "\n",
    "\n",
    "**#df_collected_tweet:**\n",
    "* **tweet_id**     - Required for Anaysis \n",
    "* **favorites**    - Required for Anaysis \n",
    "* **retweets**     - Required for Anaysis \n",
    "* **date_time**    - Required for Anaysis \n"
   ]
  },
  {
   "cell_type": "markdown",
   "metadata": {},
   "source": [
    "  "
   ]
  },
  {
   "cell_type": "markdown",
   "metadata": {},
   "source": [
    "### Part#3: Cleaning Data:- "
   ]
  },
  {
   "cell_type": "code",
   "execution_count": 16,
   "metadata": {},
   "outputs": [],
   "source": [
    "# Copying DataFrames for Clean-up Process:\n",
    "df_archive_clean = df_archive.copy()\n",
    "df_images_clean = df_images.copy()"
   ]
  },
  {
   "cell_type": "markdown",
   "metadata": {},
   "source": [
    "  "
   ]
  },
  {
   "cell_type": "markdown",
   "metadata": {},
   "source": [
    "#####################  **ISSUE [1]** #####################\n",
    "- **DEFINE**: The datatype of **[timestamp]** need to be changed to __datetime64__ and both **[rating_numerator]**/**[rating_denominator]** to float since they have dicimal values.\n",
    "- **CODE**: "
   ]
  },
  {
   "cell_type": "code",
   "execution_count": 17,
   "metadata": {},
   "outputs": [],
   "source": [
    "df_archive_clean.timestamp = pd.to_datetime(df_archive_clean.timestamp)\n",
    "df_archive_clean.rating_numerator = df_archive_clean.rating_numerator.astype(float)\n",
    "df_archive_clean.rating_denominator = df_archive_clean.rating_denominator.astype(float)"
   ]
  },
  {
   "cell_type": "markdown",
   "metadata": {},
   "source": [
    " - **TEST**: "
   ]
  },
  {
   "cell_type": "code",
   "execution_count": 18,
   "metadata": {},
   "outputs": [
    {
     "name": "stdout",
     "output_type": "stream",
     "text": [
      "<class 'pandas.core.frame.DataFrame'>\n",
      "RangeIndex: 2356 entries, 0 to 2355\n",
      "Data columns (total 17 columns):\n",
      "tweet_id                      2356 non-null int64\n",
      "in_reply_to_status_id         78 non-null float64\n",
      "in_reply_to_user_id           78 non-null float64\n",
      "timestamp                     2356 non-null datetime64[ns]\n",
      "source                        2356 non-null object\n",
      "text                          2356 non-null object\n",
      "retweeted_status_id           181 non-null float64\n",
      "retweeted_status_user_id      181 non-null float64\n",
      "retweeted_status_timestamp    181 non-null object\n",
      "expanded_urls                 2297 non-null object\n",
      "rating_numerator              2356 non-null float64\n",
      "rating_denominator            2356 non-null float64\n",
      "name                          2356 non-null object\n",
      "doggo                         2356 non-null object\n",
      "floofer                       2356 non-null object\n",
      "pupper                        2356 non-null object\n",
      "puppo                         2356 non-null object\n",
      "dtypes: datetime64[ns](1), float64(6), int64(1), object(9)\n",
      "memory usage: 313.0+ KB\n"
     ]
    }
   ],
   "source": [
    "df_archive_clean.info()"
   ]
  },
  {
   "cell_type": "markdown",
   "metadata": {},
   "source": [
    "  "
   ]
  },
  {
   "cell_type": "markdown",
   "metadata": {},
   "source": [
    "  "
   ]
  },
  {
   "cell_type": "markdown",
   "metadata": {},
   "source": [
    "#####################  **ISSUE [2]** #####################\n",
    "- **DEFINE**: Delete all Retweets/Replys records since they shouldn't be considered. ([retweeted_status*] & [in_reply_to*] columns)\n",
    "- **CODE**: "
   ]
  },
  {
   "cell_type": "code",
   "execution_count": 19,
   "metadata": {},
   "outputs": [],
   "source": [
    "# Drop all Replys and Retweets records:\n",
    "df_archive_clean.drop(df_archive_clean[df_archive_clean.retweeted_status_user_id.notnull()].index, inplace=True)\n",
    "df_archive_clean.drop(df_archive_clean[df_archive_clean.in_reply_to_user_id.notnull()].index, inplace=True)"
   ]
  },
  {
   "cell_type": "markdown",
   "metadata": {},
   "source": [
    " - **TEST**: "
   ]
  },
  {
   "cell_type": "code",
   "execution_count": 20,
   "metadata": {},
   "outputs": [
    {
     "name": "stdout",
     "output_type": "stream",
     "text": [
      "<class 'pandas.core.frame.DataFrame'>\n",
      "Int64Index: 2097 entries, 0 to 2355\n",
      "Data columns (total 17 columns):\n",
      "tweet_id                      2097 non-null int64\n",
      "in_reply_to_status_id         0 non-null float64\n",
      "in_reply_to_user_id           0 non-null float64\n",
      "timestamp                     2097 non-null datetime64[ns]\n",
      "source                        2097 non-null object\n",
      "text                          2097 non-null object\n",
      "retweeted_status_id           0 non-null float64\n",
      "retweeted_status_user_id      0 non-null float64\n",
      "retweeted_status_timestamp    0 non-null object\n",
      "expanded_urls                 2094 non-null object\n",
      "rating_numerator              2097 non-null float64\n",
      "rating_denominator            2097 non-null float64\n",
      "name                          2097 non-null object\n",
      "doggo                         2097 non-null object\n",
      "floofer                       2097 non-null object\n",
      "pupper                        2097 non-null object\n",
      "puppo                         2097 non-null object\n",
      "dtypes: datetime64[ns](1), float64(6), int64(1), object(9)\n",
      "memory usage: 294.9+ KB\n"
     ]
    }
   ],
   "source": [
    "df_archive_clean.info()"
   ]
  },
  {
   "cell_type": "markdown",
   "metadata": {},
   "source": [
    "  "
   ]
  },
  {
   "cell_type": "markdown",
   "metadata": {},
   "source": [
    "#####################  **ISSUE [3]** #####################\n",
    "- **DEFINE**: Modify some records that have inaccurate value in [rating_denominator] as it reasonibly to be fixed to or be multiple of \"10\" \n",
    "( rating_denominator %10 = 0).\n",
    "- **CODE**: "
   ]
  },
  {
   "cell_type": "code",
   "execution_count": 21,
   "metadata": {},
   "outputs": [
    {
     "data": {
      "text/html": [
       "<div>\n",
       "<style scoped>\n",
       "    .dataframe tbody tr th:only-of-type {\n",
       "        vertical-align: middle;\n",
       "    }\n",
       "\n",
       "    .dataframe tbody tr th {\n",
       "        vertical-align: top;\n",
       "    }\n",
       "\n",
       "    .dataframe thead th {\n",
       "        text-align: right;\n",
       "    }\n",
       "</style>\n",
       "<table border=\"1\" class=\"dataframe\">\n",
       "  <thead>\n",
       "    <tr style=\"text-align: right;\">\n",
       "      <th></th>\n",
       "      <th>text</th>\n",
       "      <th>rating_numerator</th>\n",
       "      <th>rating_denominator</th>\n",
       "    </tr>\n",
       "  </thead>\n",
       "  <tbody>\n",
       "    <tr>\n",
       "      <th>516</th>\n",
       "      <td>Meet Sam. She smiles 24/7 &amp;amp; secretly aspir...</td>\n",
       "      <td>24.0</td>\n",
       "      <td>7.0</td>\n",
       "    </tr>\n",
       "    <tr>\n",
       "      <th>2335</th>\n",
       "      <td>This is an Albanian 3 1/2 legged  Episcopalian...</td>\n",
       "      <td>1.0</td>\n",
       "      <td>2.0</td>\n",
       "    </tr>\n",
       "  </tbody>\n",
       "</table>\n",
       "</div>"
      ],
      "text/plain": [
       "                                                   text  rating_numerator  \\\n",
       "516   Meet Sam. She smiles 24/7 &amp; secretly aspir...              24.0   \n",
       "2335  This is an Albanian 3 1/2 legged  Episcopalian...               1.0   \n",
       "\n",
       "      rating_denominator  \n",
       "516                  7.0  \n",
       "2335                 2.0  "
      ]
     },
     "execution_count": 21,
     "metadata": {},
     "output_type": "execute_result"
    }
   ],
   "source": [
    "df_archive_clean[df_archive_clean.text.str.contains('1/2')|df_archive_clean.text.str.contains('960/0')\n",
    "           |df_archive_clean.text.str.contains('24/7')][['text', 'rating_numerator','rating_denominator']]"
   ]
  },
  {
   "cell_type": "code",
   "execution_count": 22,
   "metadata": {},
   "outputs": [],
   "source": [
    "df_archive_clean.at[516,  'rating_numerator']   = 0\n",
    "df_archive_clean.at[516,  'rating_denominator'] = 0\n",
    "df_archive_clean.at[2335, 'rating_numerator']   = 9\n",
    "df_archive_clean.at[2335, 'rating_denominator'] = 10"
   ]
  },
  {
   "cell_type": "markdown",
   "metadata": {},
   "source": [
    " - **TEST**: "
   ]
  },
  {
   "cell_type": "code",
   "execution_count": 23,
   "metadata": {},
   "outputs": [
    {
     "data": {
      "text/html": [
       "<div>\n",
       "<style scoped>\n",
       "    .dataframe tbody tr th:only-of-type {\n",
       "        vertical-align: middle;\n",
       "    }\n",
       "\n",
       "    .dataframe tbody tr th {\n",
       "        vertical-align: top;\n",
       "    }\n",
       "\n",
       "    .dataframe thead th {\n",
       "        text-align: right;\n",
       "    }\n",
       "</style>\n",
       "<table border=\"1\" class=\"dataframe\">\n",
       "  <thead>\n",
       "    <tr style=\"text-align: right;\">\n",
       "      <th></th>\n",
       "      <th>text</th>\n",
       "      <th>rating_numerator</th>\n",
       "      <th>rating_denominator</th>\n",
       "    </tr>\n",
       "  </thead>\n",
       "  <tbody>\n",
       "    <tr>\n",
       "      <th>516</th>\n",
       "      <td>Meet Sam. She smiles 24/7 &amp;amp; secretly aspir...</td>\n",
       "      <td>0.0</td>\n",
       "      <td>0.0</td>\n",
       "    </tr>\n",
       "    <tr>\n",
       "      <th>2335</th>\n",
       "      <td>This is an Albanian 3 1/2 legged  Episcopalian...</td>\n",
       "      <td>9.0</td>\n",
       "      <td>10.0</td>\n",
       "    </tr>\n",
       "  </tbody>\n",
       "</table>\n",
       "</div>"
      ],
      "text/plain": [
       "                                                   text  rating_numerator  \\\n",
       "516   Meet Sam. She smiles 24/7 &amp; secretly aspir...               0.0   \n",
       "2335  This is an Albanian 3 1/2 legged  Episcopalian...               9.0   \n",
       "\n",
       "      rating_denominator  \n",
       "516                  0.0  \n",
       "2335                10.0  "
      ]
     },
     "execution_count": 23,
     "metadata": {},
     "output_type": "execute_result"
    }
   ],
   "source": [
    "df_archive_clean[df_archive_clean.text.str.contains('1/2')|df_archive_clean.text.str.contains('960/0')\n",
    "           |df_archive_clean.text.str.contains('24/7')][['text', 'rating_numerator','rating_denominator']]"
   ]
  },
  {
   "cell_type": "markdown",
   "metadata": {},
   "source": [
    "  "
   ]
  },
  {
   "cell_type": "markdown",
   "metadata": {},
   "source": [
    "#####################  **ISSUE [4]** #####################\n",
    "- **DEFINE**: Modify some records that have inaccurate value in [rating_numerator]\n",
    "- **CODE**: "
   ]
  },
  {
   "cell_type": "code",
   "execution_count": 24,
   "metadata": {},
   "outputs": [
    {
     "name": "stderr",
     "output_type": "stream",
     "text": [
      "C:\\ProgramData\\Anaconda3\\lib\\site-packages\\ipykernel_launcher.py:1: UserWarning: This pattern has match groups. To actually get the groups, use str.extract.\n",
      "  \"\"\"Entry point for launching an IPython kernel.\n"
     ]
    },
    {
     "data": {
      "text/html": [
       "<div>\n",
       "<style scoped>\n",
       "    .dataframe tbody tr th:only-of-type {\n",
       "        vertical-align: middle;\n",
       "    }\n",
       "\n",
       "    .dataframe tbody tr th {\n",
       "        vertical-align: top;\n",
       "    }\n",
       "\n",
       "    .dataframe thead th {\n",
       "        text-align: right;\n",
       "    }\n",
       "</style>\n",
       "<table border=\"1\" class=\"dataframe\">\n",
       "  <thead>\n",
       "    <tr style=\"text-align: right;\">\n",
       "      <th></th>\n",
       "      <th>text</th>\n",
       "      <th>rating_numerator</th>\n",
       "      <th>rating_denominator</th>\n",
       "    </tr>\n",
       "  </thead>\n",
       "  <tbody>\n",
       "    <tr>\n",
       "      <th>45</th>\n",
       "      <td>This is Bella. She hopes her smile made you sm...</td>\n",
       "      <td>5.0</td>\n",
       "      <td>10.0</td>\n",
       "    </tr>\n",
       "    <tr>\n",
       "      <th>695</th>\n",
       "      <td>This is Logan, the Chow who lived. He solemnly...</td>\n",
       "      <td>75.0</td>\n",
       "      <td>10.0</td>\n",
       "    </tr>\n",
       "    <tr>\n",
       "      <th>763</th>\n",
       "      <td>This is Sophie. She's a Jubilant Bush Pupper. ...</td>\n",
       "      <td>27.0</td>\n",
       "      <td>10.0</td>\n",
       "    </tr>\n",
       "    <tr>\n",
       "      <th>1712</th>\n",
       "      <td>Here we have uncovered an entire battalion of ...</td>\n",
       "      <td>26.0</td>\n",
       "      <td>10.0</td>\n",
       "    </tr>\n",
       "  </tbody>\n",
       "</table>\n",
       "</div>"
      ],
      "text/plain": [
       "                                                   text  rating_numerator  \\\n",
       "45    This is Bella. She hopes her smile made you sm...               5.0   \n",
       "695   This is Logan, the Chow who lived. He solemnly...              75.0   \n",
       "763   This is Sophie. She's a Jubilant Bush Pupper. ...              27.0   \n",
       "1712  Here we have uncovered an entire battalion of ...              26.0   \n",
       "\n",
       "      rating_denominator  \n",
       "45                  10.0  \n",
       "695                 10.0  \n",
       "763                 10.0  \n",
       "1712                10.0  "
      ]
     },
     "execution_count": 24,
     "metadata": {},
     "output_type": "execute_result"
    }
   ],
   "source": [
    "df_archive_clean[df_archive_clean.text.str.contains(r\"(\\d+\\.\\d*\\/\\d+)\")][['text', 'rating_numerator','rating_denominator']]"
   ]
  },
  {
   "cell_type": "code",
   "execution_count": 25,
   "metadata": {},
   "outputs": [],
   "source": [
    "df_archive_clean.at[45,   'rating_numerator'] = 13.5\n",
    "df_archive_clean.at[340,  'rating_numerator'] = 9.75\n",
    "df_archive_clean.at[695,  'rating_numerator'] = 9.75\n",
    "df_archive_clean.at[763,  'rating_numerator'] = 11.27\n",
    "df_archive_clean.at[1689, 'rating_numerator'] = 9.5\n",
    "df_archive_clean.at[1712, 'rating_numerator'] = 11.27"
   ]
  },
  {
   "cell_type": "markdown",
   "metadata": {},
   "source": [
    " - **TEST**: "
   ]
  },
  {
   "cell_type": "code",
   "execution_count": 26,
   "metadata": {},
   "outputs": [
    {
     "name": "stdout",
     "output_type": "stream",
     "text": [
      "rating_numerator @ 45 =  13.5\n",
      "rating_numerator @ 340 =  9.75\n",
      "rating_numerator @ 695 =  9.75\n",
      "rating_numerator @ 763 =  11.27\n",
      "rating_numerator @ 1689 =  9.5\n",
      "rating_numerator @ 1712 =  11.27\n"
     ]
    }
   ],
   "source": [
    "print ('rating_numerator @ 45 = ',df_archive_clean.at[45,   'rating_numerator'])\n",
    "print ('rating_numerator @ 340 = ',df_archive_clean.at[340,   'rating_numerator'])\n",
    "print ('rating_numerator @ 695 = ',df_archive_clean.at[695,   'rating_numerator'])\n",
    "print ('rating_numerator @ 763 = ',df_archive_clean.at[763,   'rating_numerator'])\n",
    "print ('rating_numerator @ 1689 = ',df_archive_clean.at[1689,   'rating_numerator'])\n",
    "print ('rating_numerator @ 1712 = ',df_archive_clean.at[1712,   'rating_numerator'])"
   ]
  },
  {
   "cell_type": "markdown",
   "metadata": {},
   "source": [
    " "
   ]
  },
  {
   "cell_type": "markdown",
   "metadata": {},
   "source": [
    "#####################  **ISSUE [5]** #####################\n",
    "- **DEFINE**: Delete all records that missing values in [expanded_url] column as they indicate ratings without an image.\n",
    "- **CODE**: "
   ]
  },
  {
   "cell_type": "code",
   "execution_count": 27,
   "metadata": {},
   "outputs": [],
   "source": [
    "df_archive_clean.drop(df_archive_clean[df_archive_clean.expanded_urls.isnull()].index, inplace=True)"
   ]
  },
  {
   "cell_type": "markdown",
   "metadata": {},
   "source": [
    " - **TEST**: "
   ]
  },
  {
   "cell_type": "code",
   "execution_count": 28,
   "metadata": {
    "scrolled": false
   },
   "outputs": [
    {
     "data": {
      "text/plain": [
       "0"
      ]
     },
     "execution_count": 28,
     "metadata": {},
     "output_type": "execute_result"
    }
   ],
   "source": [
    "df_archive_clean.expanded_urls.isnull().sum()"
   ]
  },
  {
   "cell_type": "markdown",
   "metadata": {},
   "source": [
    " "
   ]
  },
  {
   "cell_type": "markdown",
   "metadata": {},
   "source": [
    "#####################  **ISSUES [6]** #####################\n",
    "- **DEFINE**: Combine rating columns into one column called [dog_rating]\n",
    "- **CODE**: "
   ]
  },
  {
   "cell_type": "code",
   "execution_count": 29,
   "metadata": {},
   "outputs": [],
   "source": [
    "df_archive_clean['dog_rate'] = df_archive_clean.rating_numerator / df_archive_clean.rating_denominator"
   ]
  },
  {
   "cell_type": "markdown",
   "metadata": {},
   "source": [
    " - **TEST**: "
   ]
  },
  {
   "cell_type": "code",
   "execution_count": 30,
   "metadata": {},
   "outputs": [
    {
     "data": {
      "text/html": [
       "<div>\n",
       "<style scoped>\n",
       "    .dataframe tbody tr th:only-of-type {\n",
       "        vertical-align: middle;\n",
       "    }\n",
       "\n",
       "    .dataframe tbody tr th {\n",
       "        vertical-align: top;\n",
       "    }\n",
       "\n",
       "    .dataframe thead th {\n",
       "        text-align: right;\n",
       "    }\n",
       "</style>\n",
       "<table border=\"1\" class=\"dataframe\">\n",
       "  <thead>\n",
       "    <tr style=\"text-align: right;\">\n",
       "      <th></th>\n",
       "      <th>tweet_id</th>\n",
       "      <th>rating_numerator</th>\n",
       "      <th>rating_denominator</th>\n",
       "      <th>dog_rate</th>\n",
       "    </tr>\n",
       "  </thead>\n",
       "  <tbody>\n",
       "    <tr>\n",
       "      <th>0</th>\n",
       "      <td>8.924206e+17</td>\n",
       "      <td>13.0</td>\n",
       "      <td>10.0</td>\n",
       "      <td>1.3</td>\n",
       "    </tr>\n",
       "    <tr>\n",
       "      <th>1</th>\n",
       "      <td>8.921774e+17</td>\n",
       "      <td>13.0</td>\n",
       "      <td>10.0</td>\n",
       "      <td>1.3</td>\n",
       "    </tr>\n",
       "    <tr>\n",
       "      <th>2</th>\n",
       "      <td>8.918152e+17</td>\n",
       "      <td>12.0</td>\n",
       "      <td>10.0</td>\n",
       "      <td>1.2</td>\n",
       "    </tr>\n",
       "    <tr>\n",
       "      <th>3</th>\n",
       "      <td>8.916896e+17</td>\n",
       "      <td>13.0</td>\n",
       "      <td>10.0</td>\n",
       "      <td>1.3</td>\n",
       "    </tr>\n",
       "    <tr>\n",
       "      <th>4</th>\n",
       "      <td>8.913276e+17</td>\n",
       "      <td>12.0</td>\n",
       "      <td>10.0</td>\n",
       "      <td>1.2</td>\n",
       "    </tr>\n",
       "  </tbody>\n",
       "</table>\n",
       "</div>"
      ],
      "text/plain": [
       "       tweet_id  rating_numerator  rating_denominator  dog_rate\n",
       "0  8.924206e+17              13.0                10.0       1.3\n",
       "1  8.921774e+17              13.0                10.0       1.3\n",
       "2  8.918152e+17              12.0                10.0       1.2\n",
       "3  8.916896e+17              13.0                10.0       1.3\n",
       "4  8.913276e+17              12.0                10.0       1.2"
      ]
     },
     "execution_count": 30,
     "metadata": {},
     "output_type": "execute_result"
    }
   ],
   "source": [
    "df_archive_clean[['tweet_id','rating_numerator','rating_denominator','dog_rate']].head(5)"
   ]
  },
  {
   "cell_type": "markdown",
   "metadata": {},
   "source": [
    " "
   ]
  },
  {
   "cell_type": "markdown",
   "metadata": {},
   "source": [
    "#####################  **ISSUES [7]** #####################\n",
    "- **DEFINE**: Combine dog stages (doggo, floofer, pupper and puppo) into one column called [dog_stage].\n",
    "- **CODE**: "
   ]
  },
  {
   "cell_type": "code",
   "execution_count": 31,
   "metadata": {},
   "outputs": [],
   "source": [
    "# First we need to solve the issue with records that have multi stages, but we need to store their indexes: \n",
    "multi_stage = df_archive_clean.loc[(df_archive_clean[['doggo', 'floofer', 'pupper', 'puppo']]\n",
    "                                    != 'None').sum(axis=1) > 1].index\n",
    "\n",
    "# Combined recods with only one stage into a new column [dog_stage]\n",
    "df_archive_clean.loc[df_archive_clean.doggo   == 'doggo'  , 'dog_stage'] = 'doggo'\n",
    "df_archive_clean.loc[df_archive_clean.floofer == 'floofer', 'dog_stage'] = 'floofer'\n",
    "df_archive_clean.loc[df_archive_clean.pupper  == 'pupper' , 'dog_stage'] = 'pupper'\n",
    "df_archive_clean.loc[df_archive_clean.puppo   == 'puppo'  , 'dog_stage'] = 'puppo'\n",
    "\n",
    "\n",
    "# Place the vlue \"multiple\" at [dog_stage] for records with multi-stages:\n",
    "for ind in multi_stage:\n",
    "    df_archive_clean.at[ind,  'dog_stage'] = 'multiple'\n",
    "    #print('[dog_stage] value @ index',ind, 'is = ',df_archive_clean.at[ind, 'dog_stage'])"
   ]
  },
  {
   "cell_type": "markdown",
   "metadata": {},
   "source": [
    " - **TEST**: "
   ]
  },
  {
   "cell_type": "code",
   "execution_count": 32,
   "metadata": {},
   "outputs": [
    {
     "data": {
      "text/html": [
       "<div>\n",
       "<style scoped>\n",
       "    .dataframe tbody tr th:only-of-type {\n",
       "        vertical-align: middle;\n",
       "    }\n",
       "\n",
       "    .dataframe tbody tr th {\n",
       "        vertical-align: top;\n",
       "    }\n",
       "\n",
       "    .dataframe thead th {\n",
       "        text-align: right;\n",
       "    }\n",
       "</style>\n",
       "<table border=\"1\" class=\"dataframe\">\n",
       "  <thead>\n",
       "    <tr style=\"text-align: right;\">\n",
       "      <th></th>\n",
       "      <th>doggo</th>\n",
       "      <th>floofer</th>\n",
       "      <th>pupper</th>\n",
       "      <th>puppo</th>\n",
       "      <th>dog_stage</th>\n",
       "    </tr>\n",
       "  </thead>\n",
       "  <tbody>\n",
       "    <tr>\n",
       "      <th>190</th>\n",
       "      <td>None</td>\n",
       "      <td>None</td>\n",
       "      <td>None</td>\n",
       "      <td>None</td>\n",
       "      <td>NaN</td>\n",
       "    </tr>\n",
       "    <tr>\n",
       "      <th>191</th>\n",
       "      <td>doggo</td>\n",
       "      <td>None</td>\n",
       "      <td>None</td>\n",
       "      <td>puppo</td>\n",
       "      <td>multiple</td>\n",
       "    </tr>\n",
       "    <tr>\n",
       "      <th>192</th>\n",
       "      <td>None</td>\n",
       "      <td>None</td>\n",
       "      <td>None</td>\n",
       "      <td>None</td>\n",
       "      <td>NaN</td>\n",
       "    </tr>\n",
       "    <tr>\n",
       "      <th>193</th>\n",
       "      <td>None</td>\n",
       "      <td>None</td>\n",
       "      <td>None</td>\n",
       "      <td>None</td>\n",
       "      <td>NaN</td>\n",
       "    </tr>\n",
       "    <tr>\n",
       "      <th>196</th>\n",
       "      <td>None</td>\n",
       "      <td>None</td>\n",
       "      <td>None</td>\n",
       "      <td>None</td>\n",
       "      <td>NaN</td>\n",
       "    </tr>\n",
       "    <tr>\n",
       "      <th>197</th>\n",
       "      <td>None</td>\n",
       "      <td>None</td>\n",
       "      <td>None</td>\n",
       "      <td>None</td>\n",
       "      <td>NaN</td>\n",
       "    </tr>\n",
       "    <tr>\n",
       "      <th>198</th>\n",
       "      <td>None</td>\n",
       "      <td>None</td>\n",
       "      <td>None</td>\n",
       "      <td>None</td>\n",
       "      <td>NaN</td>\n",
       "    </tr>\n",
       "    <tr>\n",
       "      <th>199</th>\n",
       "      <td>None</td>\n",
       "      <td>None</td>\n",
       "      <td>pupper</td>\n",
       "      <td>None</td>\n",
       "      <td>pupper</td>\n",
       "    </tr>\n",
       "    <tr>\n",
       "      <th>200</th>\n",
       "      <td>doggo</td>\n",
       "      <td>floofer</td>\n",
       "      <td>None</td>\n",
       "      <td>None</td>\n",
       "      <td>multiple</td>\n",
       "    </tr>\n",
       "  </tbody>\n",
       "</table>\n",
       "</div>"
      ],
      "text/plain": [
       "     doggo  floofer  pupper  puppo dog_stage\n",
       "190   None     None    None   None       NaN\n",
       "191  doggo     None    None  puppo  multiple\n",
       "192   None     None    None   None       NaN\n",
       "193   None     None    None   None       NaN\n",
       "196   None     None    None   None       NaN\n",
       "197   None     None    None   None       NaN\n",
       "198   None     None    None   None       NaN\n",
       "199   None     None  pupper   None    pupper\n",
       "200  doggo  floofer    None   None  multiple"
      ]
     },
     "execution_count": 32,
     "metadata": {},
     "output_type": "execute_result"
    }
   ],
   "source": [
    "df_archive_clean.loc[190:200][['doggo','floofer','pupper','puppo','dog_stage']]"
   ]
  },
  {
   "cell_type": "markdown",
   "metadata": {},
   "source": [
    " "
   ]
  },
  {
   "cell_type": "markdown",
   "metadata": {},
   "source": [
    "#####################  **ISSUE [8]** #####################\n",
    "- **DEFINE**: Replace all 'None' strings with NP.NaN. Thisis needed to have a consistant null representation for all missing values. \n",
    "- **CODE**: "
   ]
  },
  {
   "cell_type": "code",
   "execution_count": 33,
   "metadata": {},
   "outputs": [],
   "source": [
    "df_archive_clean.replace('None', np.nan, inplace=True)"
   ]
  },
  {
   "cell_type": "markdown",
   "metadata": {},
   "source": [
    " - **TEST**: "
   ]
  },
  {
   "cell_type": "code",
   "execution_count": 34,
   "metadata": {},
   "outputs": [
    {
     "data": {
      "text/html": [
       "<div>\n",
       "<style scoped>\n",
       "    .dataframe tbody tr th:only-of-type {\n",
       "        vertical-align: middle;\n",
       "    }\n",
       "\n",
       "    .dataframe tbody tr th {\n",
       "        vertical-align: top;\n",
       "    }\n",
       "\n",
       "    .dataframe thead th {\n",
       "        text-align: right;\n",
       "    }\n",
       "</style>\n",
       "<table border=\"1\" class=\"dataframe\">\n",
       "  <thead>\n",
       "    <tr style=\"text-align: right;\">\n",
       "      <th></th>\n",
       "      <th>doggo</th>\n",
       "      <th>floofer</th>\n",
       "      <th>pupper</th>\n",
       "      <th>puppo</th>\n",
       "    </tr>\n",
       "  </thead>\n",
       "  <tbody>\n",
       "    <tr>\n",
       "      <th>1276</th>\n",
       "      <td>NaN</td>\n",
       "      <td>NaN</td>\n",
       "      <td>NaN</td>\n",
       "      <td>NaN</td>\n",
       "    </tr>\n",
       "    <tr>\n",
       "      <th>1831</th>\n",
       "      <td>NaN</td>\n",
       "      <td>NaN</td>\n",
       "      <td>NaN</td>\n",
       "      <td>NaN</td>\n",
       "    </tr>\n",
       "    <tr>\n",
       "      <th>740</th>\n",
       "      <td>NaN</td>\n",
       "      <td>NaN</td>\n",
       "      <td>NaN</td>\n",
       "      <td>NaN</td>\n",
       "    </tr>\n",
       "    <tr>\n",
       "      <th>640</th>\n",
       "      <td>NaN</td>\n",
       "      <td>NaN</td>\n",
       "      <td>NaN</td>\n",
       "      <td>NaN</td>\n",
       "    </tr>\n",
       "    <tr>\n",
       "      <th>156</th>\n",
       "      <td>NaN</td>\n",
       "      <td>NaN</td>\n",
       "      <td>NaN</td>\n",
       "      <td>NaN</td>\n",
       "    </tr>\n",
       "  </tbody>\n",
       "</table>\n",
       "</div>"
      ],
      "text/plain": [
       "     doggo floofer pupper puppo\n",
       "1276   NaN     NaN    NaN   NaN\n",
       "1831   NaN     NaN    NaN   NaN\n",
       "740    NaN     NaN    NaN   NaN\n",
       "640    NaN     NaN    NaN   NaN\n",
       "156    NaN     NaN    NaN   NaN"
      ]
     },
     "execution_count": 34,
     "metadata": {},
     "output_type": "execute_result"
    }
   ],
   "source": [
    "df_archive_clean[['doggo', 'floofer','pupper','puppo']].sample(5)"
   ]
  },
  {
   "cell_type": "markdown",
   "metadata": {},
   "source": [
    " "
   ]
  },
  {
   "cell_type": "markdown",
   "metadata": {},
   "source": [
    "#####################  **ISSUE [9]** #####################\n",
    "- **DEFINE**:  Replace invalid dogs' names with NP.NaN.\n",
    "- **CODE**: "
   ]
  },
  {
   "cell_type": "code",
   "execution_count": 35,
   "metadata": {},
   "outputs": [],
   "source": [
    "names=['a','the','an','not','one','Mo','O','Al','my','his','this','all']\n",
    "df_archive_clean.replace(names, np.nan, inplace=True)"
   ]
  },
  {
   "cell_type": "markdown",
   "metadata": {},
   "source": [
    " - **TEST**: "
   ]
  },
  {
   "cell_type": "code",
   "execution_count": 36,
   "metadata": {},
   "outputs": [
    {
     "data": {
      "text/plain": [
       "Charlie    11\n",
       "Lucy       11\n",
       "Oliver     10\n",
       "Cooper     10\n",
       "Tucker      9\n",
       "Name: name, dtype: int64"
      ]
     },
     "execution_count": 36,
     "metadata": {},
     "output_type": "execute_result"
    }
   ],
   "source": [
    "df_archive_clean.name.value_counts().head(5)"
   ]
  },
  {
   "cell_type": "markdown",
   "metadata": {},
   "source": [
    "#####################  **ISSUES [10] & [11]** #####################\n",
    "- **DEFINE [10]**: Not all tweets have predictions photo (Archive Tweets \"df_archive\": 2356 rows , Predection Images \"df_images\": 2075 rows), so only tweet with images will be considered.\n",
    "- **DEFINE [11]**: Combine all DataFrames into one master DataFrame called [df_master]. Its content should be stored in twitter_archive_master.csv.\n",
    "- **CODE**: "
   ]
  },
  {
   "cell_type": "code",
   "execution_count": 37,
   "metadata": {},
   "outputs": [],
   "source": [
    "# Before combining and merging the 3 DataFrames into the master one [df_master], let's do some cleaing: \n",
    "\n",
    "# Drop unrequired columns from [df_archive_clean]:\n",
    "columns = ['timestamp','source','text','rating_numerator','rating_denominator','in_reply_to_status_id', 'in_reply_to_user_id','retweeted_status_id', \n",
    "           'retweeted_status_user_id','expanded_urls','retweeted_status_timestamp','doggo','floofer','pupper','puppo']\n",
    "df_archive_clean.drop(columns,axis=1,inplace=True)\n",
    "\n",
    "\n",
    "# Drop unrequired columns from [df_images_clean]:\n",
    "columns = ['p1_dog','p2','p2_conf','p2_dog', 'p3','p3_conf', 'p3_dog']\n",
    "df_images_clean.drop(columns,axis=1,inplace=True)\n",
    "\n",
    "\n",
    "# Create a new DataFrame that combineds all DataFrames (df_archive_clean, df_images_clean, collected_tweet):\n",
    "df_master = pd.merge(df_collected_tweet, df_archive_clean, on='tweet_id', how='inner')\n",
    "df_master = pd.merge(df_master, df_images_clean, on='tweet_id', how='inner')\n",
    "df_master = df_master[['date_time','tweet_id','favorites','retweets','name','dog_rate','dog_stage','jpg_url','img_num','p1','p1_conf']]\n"
   ]
  },
  {
   "cell_type": "markdown",
   "metadata": {},
   "source": [
    " - **TEST**: "
   ]
  },
  {
   "cell_type": "code",
   "execution_count": 39,
   "metadata": {},
   "outputs": [
    {
     "data": {
      "text/html": [
       "<div>\n",
       "<style scoped>\n",
       "    .dataframe tbody tr th:only-of-type {\n",
       "        vertical-align: middle;\n",
       "    }\n",
       "\n",
       "    .dataframe tbody tr th {\n",
       "        vertical-align: top;\n",
       "    }\n",
       "\n",
       "    .dataframe thead th {\n",
       "        text-align: right;\n",
       "    }\n",
       "</style>\n",
       "<table border=\"1\" class=\"dataframe\">\n",
       "  <thead>\n",
       "    <tr style=\"text-align: right;\">\n",
       "      <th></th>\n",
       "      <th>tweet_id</th>\n",
       "      <th>name</th>\n",
       "      <th>dog_rate</th>\n",
       "      <th>dog_stage</th>\n",
       "    </tr>\n",
       "  </thead>\n",
       "  <tbody>\n",
       "    <tr>\n",
       "      <th>0</th>\n",
       "      <td>8.924206e+17</td>\n",
       "      <td>Phineas</td>\n",
       "      <td>1.3</td>\n",
       "      <td>NaN</td>\n",
       "    </tr>\n",
       "    <tr>\n",
       "      <th>1</th>\n",
       "      <td>8.921774e+17</td>\n",
       "      <td>Tilly</td>\n",
       "      <td>1.3</td>\n",
       "      <td>NaN</td>\n",
       "    </tr>\n",
       "    <tr>\n",
       "      <th>2</th>\n",
       "      <td>8.918152e+17</td>\n",
       "      <td>Archie</td>\n",
       "      <td>1.2</td>\n",
       "      <td>NaN</td>\n",
       "    </tr>\n",
       "    <tr>\n",
       "      <th>3</th>\n",
       "      <td>8.916896e+17</td>\n",
       "      <td>Darla</td>\n",
       "      <td>1.3</td>\n",
       "      <td>NaN</td>\n",
       "    </tr>\n",
       "    <tr>\n",
       "      <th>4</th>\n",
       "      <td>8.913276e+17</td>\n",
       "      <td>Franklin</td>\n",
       "      <td>1.2</td>\n",
       "      <td>NaN</td>\n",
       "    </tr>\n",
       "  </tbody>\n",
       "</table>\n",
       "</div>"
      ],
      "text/plain": [
       "       tweet_id      name  dog_rate dog_stage\n",
       "0  8.924206e+17   Phineas       1.3       NaN\n",
       "1  8.921774e+17     Tilly       1.3       NaN\n",
       "2  8.918152e+17    Archie       1.2       NaN\n",
       "3  8.916896e+17     Darla       1.3       NaN\n",
       "4  8.913276e+17  Franklin       1.2       NaN"
      ]
     },
     "execution_count": 39,
     "metadata": {},
     "output_type": "execute_result"
    }
   ],
   "source": [
    "df_archive_clean.head(5)"
   ]
  },
  {
   "cell_type": "code",
   "execution_count": 40,
   "metadata": {},
   "outputs": [
    {
     "data": {
      "text/html": [
       "<div>\n",
       "<style scoped>\n",
       "    .dataframe tbody tr th:only-of-type {\n",
       "        vertical-align: middle;\n",
       "    }\n",
       "\n",
       "    .dataframe tbody tr th {\n",
       "        vertical-align: top;\n",
       "    }\n",
       "\n",
       "    .dataframe thead th {\n",
       "        text-align: right;\n",
       "    }\n",
       "</style>\n",
       "<table border=\"1\" class=\"dataframe\">\n",
       "  <thead>\n",
       "    <tr style=\"text-align: right;\">\n",
       "      <th></th>\n",
       "      <th>tweet_id</th>\n",
       "      <th>jpg_url</th>\n",
       "      <th>img_num</th>\n",
       "      <th>p1</th>\n",
       "      <th>p1_conf</th>\n",
       "    </tr>\n",
       "  </thead>\n",
       "  <tbody>\n",
       "    <tr>\n",
       "      <th>0</th>\n",
       "      <td>666020888022790149</td>\n",
       "      <td>https://pbs.twimg.com/media/CT4udn0WwAA0aMy.jpg</td>\n",
       "      <td>1</td>\n",
       "      <td>Welsh_springer_spaniel</td>\n",
       "      <td>0.465074</td>\n",
       "    </tr>\n",
       "    <tr>\n",
       "      <th>1</th>\n",
       "      <td>666029285002620928</td>\n",
       "      <td>https://pbs.twimg.com/media/CT42GRgUYAA5iDo.jpg</td>\n",
       "      <td>1</td>\n",
       "      <td>redbone</td>\n",
       "      <td>0.506826</td>\n",
       "    </tr>\n",
       "    <tr>\n",
       "      <th>2</th>\n",
       "      <td>666033412701032449</td>\n",
       "      <td>https://pbs.twimg.com/media/CT4521TWwAEvMyu.jpg</td>\n",
       "      <td>1</td>\n",
       "      <td>German_shepherd</td>\n",
       "      <td>0.596461</td>\n",
       "    </tr>\n",
       "    <tr>\n",
       "      <th>3</th>\n",
       "      <td>666044226329800704</td>\n",
       "      <td>https://pbs.twimg.com/media/CT5Dr8HUEAA-lEu.jpg</td>\n",
       "      <td>1</td>\n",
       "      <td>Rhodesian_ridgeback</td>\n",
       "      <td>0.408143</td>\n",
       "    </tr>\n",
       "    <tr>\n",
       "      <th>4</th>\n",
       "      <td>666049248165822465</td>\n",
       "      <td>https://pbs.twimg.com/media/CT5IQmsXIAAKY4A.jpg</td>\n",
       "      <td>1</td>\n",
       "      <td>miniature_pinscher</td>\n",
       "      <td>0.560311</td>\n",
       "    </tr>\n",
       "  </tbody>\n",
       "</table>\n",
       "</div>"
      ],
      "text/plain": [
       "             tweet_id                                          jpg_url  \\\n",
       "0  666020888022790149  https://pbs.twimg.com/media/CT4udn0WwAA0aMy.jpg   \n",
       "1  666029285002620928  https://pbs.twimg.com/media/CT42GRgUYAA5iDo.jpg   \n",
       "2  666033412701032449  https://pbs.twimg.com/media/CT4521TWwAEvMyu.jpg   \n",
       "3  666044226329800704  https://pbs.twimg.com/media/CT5Dr8HUEAA-lEu.jpg   \n",
       "4  666049248165822465  https://pbs.twimg.com/media/CT5IQmsXIAAKY4A.jpg   \n",
       "\n",
       "   img_num                      p1   p1_conf  \n",
       "0        1  Welsh_springer_spaniel  0.465074  \n",
       "1        1                 redbone  0.506826  \n",
       "2        1         German_shepherd  0.596461  \n",
       "3        1     Rhodesian_ridgeback  0.408143  \n",
       "4        1      miniature_pinscher  0.560311  "
      ]
     },
     "execution_count": 40,
     "metadata": {},
     "output_type": "execute_result"
    }
   ],
   "source": [
    "df_images_clean.head(5)"
   ]
  },
  {
   "cell_type": "code",
   "execution_count": 41,
   "metadata": {},
   "outputs": [
    {
     "data": {
      "text/html": [
       "<div>\n",
       "<style scoped>\n",
       "    .dataframe tbody tr th:only-of-type {\n",
       "        vertical-align: middle;\n",
       "    }\n",
       "\n",
       "    .dataframe tbody tr th {\n",
       "        vertical-align: top;\n",
       "    }\n",
       "\n",
       "    .dataframe thead th {\n",
       "        text-align: right;\n",
       "    }\n",
       "</style>\n",
       "<table border=\"1\" class=\"dataframe\">\n",
       "  <thead>\n",
       "    <tr style=\"text-align: right;\">\n",
       "      <th></th>\n",
       "      <th>date_time</th>\n",
       "      <th>tweet_id</th>\n",
       "      <th>favorites</th>\n",
       "      <th>retweets</th>\n",
       "      <th>name</th>\n",
       "      <th>dog_rate</th>\n",
       "      <th>dog_stage</th>\n",
       "      <th>jpg_url</th>\n",
       "      <th>img_num</th>\n",
       "      <th>p1</th>\n",
       "      <th>p1_conf</th>\n",
       "    </tr>\n",
       "  </thead>\n",
       "  <tbody>\n",
       "    <tr>\n",
       "      <th>0</th>\n",
       "      <td>2017-07-31 00:18:03</td>\n",
       "      <td>891815181378084864</td>\n",
       "      <td>24256</td>\n",
       "      <td>3991</td>\n",
       "      <td>Archie</td>\n",
       "      <td>1.2</td>\n",
       "      <td>NaN</td>\n",
       "      <td>https://pbs.twimg.com/media/DGBdLU1WsAANxJ9.jpg</td>\n",
       "      <td>1</td>\n",
       "      <td>Chihuahua</td>\n",
       "      <td>0.716012</td>\n",
       "    </tr>\n",
       "    <tr>\n",
       "      <th>1</th>\n",
       "      <td>2017-07-30 15:58:51</td>\n",
       "      <td>891689557279858688</td>\n",
       "      <td>40735</td>\n",
       "      <td>8304</td>\n",
       "      <td>Darla</td>\n",
       "      <td>1.3</td>\n",
       "      <td>NaN</td>\n",
       "      <td>https://pbs.twimg.com/media/DF_q7IAWsAEuuN8.jpg</td>\n",
       "      <td>1</td>\n",
       "      <td>paper_towel</td>\n",
       "      <td>0.170278</td>\n",
       "    </tr>\n",
       "    <tr>\n",
       "      <th>2</th>\n",
       "      <td>2017-07-29 16:00:24</td>\n",
       "      <td>891327558926688256</td>\n",
       "      <td>38969</td>\n",
       "      <td>8992</td>\n",
       "      <td>Franklin</td>\n",
       "      <td>1.2</td>\n",
       "      <td>NaN</td>\n",
       "      <td>https://pbs.twimg.com/media/DF6hr6BUMAAzZgT.jpg</td>\n",
       "      <td>2</td>\n",
       "      <td>basset</td>\n",
       "      <td>0.555712</td>\n",
       "    </tr>\n",
       "    <tr>\n",
       "      <th>3</th>\n",
       "      <td>2017-07-29 00:08:17</td>\n",
       "      <td>891087950875897856</td>\n",
       "      <td>19581</td>\n",
       "      <td>2985</td>\n",
       "      <td>NaN</td>\n",
       "      <td>1.3</td>\n",
       "      <td>NaN</td>\n",
       "      <td>https://pbs.twimg.com/media/DF3HwyEWsAABqE6.jpg</td>\n",
       "      <td>1</td>\n",
       "      <td>Chesapeake_Bay_retriever</td>\n",
       "      <td>0.425595</td>\n",
       "    </tr>\n",
       "    <tr>\n",
       "      <th>4</th>\n",
       "      <td>2017-07-28 00:22:40</td>\n",
       "      <td>890729181411237888</td>\n",
       "      <td>63115</td>\n",
       "      <td>18107</td>\n",
       "      <td>NaN</td>\n",
       "      <td>1.3</td>\n",
       "      <td>NaN</td>\n",
       "      <td>https://pbs.twimg.com/media/DFyBahAVwAAhUTd.jpg</td>\n",
       "      <td>2</td>\n",
       "      <td>Pomeranian</td>\n",
       "      <td>0.566142</td>\n",
       "    </tr>\n",
       "  </tbody>\n",
       "</table>\n",
       "</div>"
      ],
      "text/plain": [
       "            date_time            tweet_id  favorites  retweets      name  \\\n",
       "0 2017-07-31 00:18:03  891815181378084864      24256      3991    Archie   \n",
       "1 2017-07-30 15:58:51  891689557279858688      40735      8304     Darla   \n",
       "2 2017-07-29 16:00:24  891327558926688256      38969      8992  Franklin   \n",
       "3 2017-07-29 00:08:17  891087950875897856      19581      2985       NaN   \n",
       "4 2017-07-28 00:22:40  890729181411237888      63115     18107       NaN   \n",
       "\n",
       "   dog_rate dog_stage                                          jpg_url  \\\n",
       "0       1.2       NaN  https://pbs.twimg.com/media/DGBdLU1WsAANxJ9.jpg   \n",
       "1       1.3       NaN  https://pbs.twimg.com/media/DF_q7IAWsAEuuN8.jpg   \n",
       "2       1.2       NaN  https://pbs.twimg.com/media/DF6hr6BUMAAzZgT.jpg   \n",
       "3       1.3       NaN  https://pbs.twimg.com/media/DF3HwyEWsAABqE6.jpg   \n",
       "4       1.3       NaN  https://pbs.twimg.com/media/DFyBahAVwAAhUTd.jpg   \n",
       "\n",
       "   img_num                        p1   p1_conf  \n",
       "0        1                 Chihuahua  0.716012  \n",
       "1        1               paper_towel  0.170278  \n",
       "2        2                    basset  0.555712  \n",
       "3        1  Chesapeake_Bay_retriever  0.425595  \n",
       "4        2                Pomeranian  0.566142  "
      ]
     },
     "execution_count": 41,
     "metadata": {},
     "output_type": "execute_result"
    }
   ],
   "source": [
    "df_master.head(5)"
   ]
  },
  {
   "cell_type": "markdown",
   "metadata": {},
   "source": [
    "#####################  **ISSUE [12]** #####################\n",
    "- **DEFINE**: Rename column labels to a descriptive ones.\n",
    "- **CODE**: "
   ]
  },
  {
   "cell_type": "code",
   "execution_count": 42,
   "metadata": {},
   "outputs": [],
   "source": [
    "# Rename df_master's column labels to a descriptive ones:\n",
    "df_master.rename(columns={'date_time': 'time_stamp',\n",
    "                          'name': 'dog_name',\n",
    "                          'jpg_url': 'image_url',\n",
    "                          'img_num': 'images_count',\n",
    "                          'p1': 'img_prediction',\n",
    "                          'p1_conf': 'prediction_conf',\n",
    "                          }, inplace=True)\n",
    "\n",
    "\n",
    "# 13. Save to df_master a CSV file:\n",
    "df_master.to_csv('twitter_archive_master.csv', encoding = 'utf-8', index=False)"
   ]
  },
  {
   "cell_type": "markdown",
   "metadata": {},
   "source": [
    " - **TEST**: "
   ]
  },
  {
   "cell_type": "code",
   "execution_count": 43,
   "metadata": {},
   "outputs": [
    {
     "name": "stdout",
     "output_type": "stream",
     "text": [
      "<class 'pandas.core.frame.DataFrame'>\n",
      "Int64Index: 1282 entries, 0 to 1281\n",
      "Data columns (total 11 columns):\n",
      "time_stamp         1282 non-null datetime64[ns]\n",
      "tweet_id           1282 non-null int64\n",
      "favorites          1282 non-null int64\n",
      "retweets           1282 non-null int64\n",
      "dog_name           872 non-null object\n",
      "dog_rate           1281 non-null float64\n",
      "dog_stage          202 non-null object\n",
      "image_url          1282 non-null object\n",
      "images_count       1282 non-null int64\n",
      "img_prediction     1282 non-null object\n",
      "prediction_conf    1282 non-null float64\n",
      "dtypes: datetime64[ns](1), float64(2), int64(4), object(4)\n",
      "memory usage: 120.2+ KB\n"
     ]
    }
   ],
   "source": [
    "df_master.info()"
   ]
  },
  {
   "cell_type": "code",
   "execution_count": 44,
   "metadata": {},
   "outputs": [
    {
     "data": {
      "text/html": [
       "<div>\n",
       "<style scoped>\n",
       "    .dataframe tbody tr th:only-of-type {\n",
       "        vertical-align: middle;\n",
       "    }\n",
       "\n",
       "    .dataframe tbody tr th {\n",
       "        vertical-align: top;\n",
       "    }\n",
       "\n",
       "    .dataframe thead th {\n",
       "        text-align: right;\n",
       "    }\n",
       "</style>\n",
       "<table border=\"1\" class=\"dataframe\">\n",
       "  <thead>\n",
       "    <tr style=\"text-align: right;\">\n",
       "      <th></th>\n",
       "      <th>time_stamp</th>\n",
       "      <th>tweet_id</th>\n",
       "      <th>favorites</th>\n",
       "      <th>retweets</th>\n",
       "      <th>dog_name</th>\n",
       "      <th>dog_rate</th>\n",
       "      <th>dog_stage</th>\n",
       "      <th>image_url</th>\n",
       "      <th>images_count</th>\n",
       "      <th>img_prediction</th>\n",
       "      <th>prediction_conf</th>\n",
       "    </tr>\n",
       "  </thead>\n",
       "  <tbody>\n",
       "    <tr>\n",
       "      <th>0</th>\n",
       "      <td>2017-07-31 00:18:03</td>\n",
       "      <td>891815181378084864</td>\n",
       "      <td>24256</td>\n",
       "      <td>3991</td>\n",
       "      <td>Archie</td>\n",
       "      <td>1.2</td>\n",
       "      <td>NaN</td>\n",
       "      <td>https://pbs.twimg.com/media/DGBdLU1WsAANxJ9.jpg</td>\n",
       "      <td>1</td>\n",
       "      <td>Chihuahua</td>\n",
       "      <td>0.716012</td>\n",
       "    </tr>\n",
       "    <tr>\n",
       "      <th>1</th>\n",
       "      <td>2017-07-30 15:58:51</td>\n",
       "      <td>891689557279858688</td>\n",
       "      <td>40735</td>\n",
       "      <td>8304</td>\n",
       "      <td>Darla</td>\n",
       "      <td>1.3</td>\n",
       "      <td>NaN</td>\n",
       "      <td>https://pbs.twimg.com/media/DF_q7IAWsAEuuN8.jpg</td>\n",
       "      <td>1</td>\n",
       "      <td>paper_towel</td>\n",
       "      <td>0.170278</td>\n",
       "    </tr>\n",
       "    <tr>\n",
       "      <th>2</th>\n",
       "      <td>2017-07-29 16:00:24</td>\n",
       "      <td>891327558926688256</td>\n",
       "      <td>38969</td>\n",
       "      <td>8992</td>\n",
       "      <td>Franklin</td>\n",
       "      <td>1.2</td>\n",
       "      <td>NaN</td>\n",
       "      <td>https://pbs.twimg.com/media/DF6hr6BUMAAzZgT.jpg</td>\n",
       "      <td>2</td>\n",
       "      <td>basset</td>\n",
       "      <td>0.555712</td>\n",
       "    </tr>\n",
       "    <tr>\n",
       "      <th>3</th>\n",
       "      <td>2017-07-29 00:08:17</td>\n",
       "      <td>891087950875897856</td>\n",
       "      <td>19581</td>\n",
       "      <td>2985</td>\n",
       "      <td>NaN</td>\n",
       "      <td>1.3</td>\n",
       "      <td>NaN</td>\n",
       "      <td>https://pbs.twimg.com/media/DF3HwyEWsAABqE6.jpg</td>\n",
       "      <td>1</td>\n",
       "      <td>Chesapeake_Bay_retriever</td>\n",
       "      <td>0.425595</td>\n",
       "    </tr>\n",
       "    <tr>\n",
       "      <th>4</th>\n",
       "      <td>2017-07-28 00:22:40</td>\n",
       "      <td>890729181411237888</td>\n",
       "      <td>63115</td>\n",
       "      <td>18107</td>\n",
       "      <td>NaN</td>\n",
       "      <td>1.3</td>\n",
       "      <td>NaN</td>\n",
       "      <td>https://pbs.twimg.com/media/DFyBahAVwAAhUTd.jpg</td>\n",
       "      <td>2</td>\n",
       "      <td>Pomeranian</td>\n",
       "      <td>0.566142</td>\n",
       "    </tr>\n",
       "  </tbody>\n",
       "</table>\n",
       "</div>"
      ],
      "text/plain": [
       "           time_stamp            tweet_id  favorites  retweets  dog_name  \\\n",
       "0 2017-07-31 00:18:03  891815181378084864      24256      3991    Archie   \n",
       "1 2017-07-30 15:58:51  891689557279858688      40735      8304     Darla   \n",
       "2 2017-07-29 16:00:24  891327558926688256      38969      8992  Franklin   \n",
       "3 2017-07-29 00:08:17  891087950875897856      19581      2985       NaN   \n",
       "4 2017-07-28 00:22:40  890729181411237888      63115     18107       NaN   \n",
       "\n",
       "   dog_rate dog_stage                                        image_url  \\\n",
       "0       1.2       NaN  https://pbs.twimg.com/media/DGBdLU1WsAANxJ9.jpg   \n",
       "1       1.3       NaN  https://pbs.twimg.com/media/DF_q7IAWsAEuuN8.jpg   \n",
       "2       1.2       NaN  https://pbs.twimg.com/media/DF6hr6BUMAAzZgT.jpg   \n",
       "3       1.3       NaN  https://pbs.twimg.com/media/DF3HwyEWsAABqE6.jpg   \n",
       "4       1.3       NaN  https://pbs.twimg.com/media/DFyBahAVwAAhUTd.jpg   \n",
       "\n",
       "   images_count            img_prediction  prediction_conf  \n",
       "0             1                 Chihuahua         0.716012  \n",
       "1             1               paper_towel         0.170278  \n",
       "2             2                    basset         0.555712  \n",
       "3             1  Chesapeake_Bay_retriever         0.425595  \n",
       "4             2                Pomeranian         0.566142  "
      ]
     },
     "execution_count": 44,
     "metadata": {},
     "output_type": "execute_result"
    }
   ],
   "source": [
    "df_master.head()"
   ]
  },
  {
   "cell_type": "markdown",
   "metadata": {},
   "source": [
    "## Project's Analyzing and Visualizing  "
   ]
  },
  {
   "cell_type": "code",
   "execution_count": 46,
   "metadata": {},
   "outputs": [
    {
     "data": {
      "image/png": "[encoded data removed]",
      "text/plain": [
       "<Figure size 720x720 with 2 Axes>"
      ]
     },
     "metadata": {
      "needs_background": "light"
     },
     "output_type": "display_data"
    }
   ],
   "source": [
    "sum_retweets = df_master.groupby('dog_stage')['retweets'].sum()\n",
    "sum_favorites = df_master.groupby('dog_stage')['favorites'].sum()\n",
    "\n",
    "plt.subplot(2,1,1) \n",
    "stages_graph = sum_retweets.plot(kind='bar', figsize=(10, 10), alpha=0.8, color='#8d9db6' ,edgecolor='black')\n",
    "stages_graph.set_title('Dogs Stages vs Retweets', size = 14)\n",
    "stages_graph.set_xlabel('')\n",
    "stages_graph.set_ylabel('Retweets', size = 14, labelpad=20)\n",
    "stages_graph.set_xticklabels([], size = 14, rotation = 25)\n",
    "rate_graph.grid(True, which='major', color='gray', alpha=0.1);\n",
    "\n",
    "plt.subplot(2,1,2) \n",
    "stages_graph = sum_favorites.plot(kind='bar', figsize=(10, 10), alpha=0.8, color='#eeac99' ,edgecolor='black')\n",
    "stages_graph.set_title('Dogs Stages vs Retweets', size = 14)\n",
    "stages_graph.set_xlabel('Dog Stages', size = 14, labelpad=20)\n",
    "stages_graph.set_ylabel('favorites', size = 14, labelpad=20)\n",
    "stages_graph.set_xticklabels(['doggo','floofer','pupper','puppo'], size = 14, rotation = 25)\n",
    "rate_graph.grid(True, which='major', color='gray', alpha=0.1);"
   ]
  },
  {
   "cell_type": "code",
   "execution_count": 47,
   "metadata": {},
   "outputs": [
    {
     "name": "stderr",
     "output_type": "stream",
     "text": [
      "C:\\ProgramData\\Anaconda3\\lib\\site-packages\\scipy\\stats\\stats.py:1713: FutureWarning: Using a non-tuple sequence for multidimensional indexing is deprecated; use `arr[tuple(seq)]` instead of `arr[seq]`. In the future this will be interpreted as an array index, `arr[np.array(seq)]`, which will result either in an error or a different result.\n",
      "  return np.add.reduce(sorted[indexer] * weights, axis=axis) / sumval\n"
     ]
    },
    {
     "data": {
      "image/png": "[encoded data removed]",
      "text/plain": [
       "<Figure size 432x288 with 1 Axes>"
      ]
     },
     "metadata": {
      "needs_background": "light"
     },
     "output_type": "display_data"
    }
   ],
   "source": [
    "sns.regplot(x=\"retweets\", y=\"favorites\", data=df_master);"
   ]
  },
  {
   "cell_type": "markdown",
   "metadata": {},
   "source": [
    "## Project's Insights"
   ]
  },
  {
   "cell_type": "markdown",
   "metadata": {},
   "source": [
    "**#1#** Funny fact: Most of the dogs in this study have +10/10 rates :) \n",
    "* Rates Mean: 10.05/10\n",
    "* Rates Median: 11/10\n",
    "* Rates Max: 14/10\n",
    "* Rates Min: 1/10"
   ]
  },
  {
   "cell_type": "markdown",
   "metadata": {},
   "source": [
    "**#2#** The most favorited Dog Stage is (Pupper) stage, which has both the hights retweet and favorites rates. This stage is followed by Doggo, Puppo and finally Floofer stages. "
   ]
  },
  {
   "cell_type": "markdown",
   "metadata": {},
   "source": [
    "**#3#** More retweets rate indicates more faviorate rate. "
   ]
  }
 ],
 "metadata": {
  "kernelspec": {
   "display_name": "Python 3",
   "language": "python",
   "name": "python3"
  },
  "language_info": {
   "codemirror_mode": {
    "name": "ipython",
    "version": 3
   },
   "file_extension": ".py",
   "mimetype": "text/x-python",
   "name": "python",
   "nbconvert_exporter": "python",
   "pygments_lexer": "ipython3",
   "version": "3.7.1"
  }
 },
 "nbformat": 4,
 "nbformat_minor": 2
}
